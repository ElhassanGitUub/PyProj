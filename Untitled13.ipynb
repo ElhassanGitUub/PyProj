{
  "nbformat": 4,
  "nbformat_minor": 0,
  "metadata": {
    "colab": {
      "provenance": [],
      "authorship_tag": "ABX9TyN9mUWa7oYrVEj5jgBq/Uwr",
      "include_colab_link": true
    },
    "kernelspec": {
      "name": "python3",
      "display_name": "Python 3"
    },
    "language_info": {
      "name": "python"
    }
  },
  "cells": [
    {
      "cell_type": "markdown",
      "metadata": {
        "id": "view-in-github",
        "colab_type": "text"
      },
      "source": [
        "<a href=\"https://colab.research.google.com/github/ElhassanGitUub/PyProj/blob/main/Untitled13.ipynb\" target=\"_parent\"><img src=\"https://colab.research.google.com/assets/colab-badge.svg\" alt=\"Open In Colab\"/></a>"
      ]
    },
    {
      "cell_type": "markdown",
      "source": [
        "# **Data Normalization Techniques**\n",
        "\n",
        "Objectives\n",
        "In this lab, you will perform the following:\n",
        "\n",
        "Identify duplicate rows and remove them.\n",
        "\n",
        "Check and handle missing values in key columns.\n",
        "\n",
        "Identify and normalize compensation-related columns.\n",
        "\n",
        "Visualize the effect of normalization techniques on data distributions.\n",
        "\n"
      ],
      "metadata": {
        "id": "9KpjAKQZ-obP"
      }
    },
    {
      "cell_type": "markdown",
      "source": [
        "**Step 1: Install and Import Libraries**\n",
        "\n",
        "!pip install pandas\n",
        "\n",
        "!pip install matplotlib"
      ],
      "metadata": {
        "id": "XYix1Ayp--M-"
      }
    },
    {
      "cell_type": "code",
      "execution_count": 4,
      "metadata": {
        "id": "s71Un83X-mEV"
      },
      "outputs": [],
      "source": [
        "import pandas as pd\n",
        "import matplotlib.pyplot as plt"
      ]
    },
    {
      "cell_type": "markdown",
      "source": [
        "\n",
        "### Step 2: Load the Dataset into a DataFrame\n",
        "\n",
        "We use the <code>pandas.read_csv()</code> function for reading CSV files. However, in this version of the lab, which operates on JupyterLite, the dataset needs to be downloaded to the interface using the provided code below.\n",
        "\n",
        "The functions below will download the dataset into your browser:\n",
        "\n"
      ],
      "metadata": {
        "id": "Ic1ShbB4-m6i"
      }
    },
    {
      "cell_type": "code",
      "source": [
        "file_path = \"https://cf-courses-data.s3.us.cloud-object-storage.appdomain.cloud/n01PQ9pSmiRX6520flujwQ/survey-data.csv\"\n",
        "\n",
        "df = pd.read_csv(file_path)\n",
        "\n",
        "# Display the first few rows to check if data is loaded correctly\n",
        "print(df.head())\n"
      ],
      "metadata": {
        "colab": {
          "base_uri": "https://localhost:8080/"
        },
        "collapsed": true,
        "id": "x6Ii_rA5_ltI",
        "outputId": "421345f2-9fdb-4791-a1bf-74dbd130ac15"
      },
      "execution_count": 5,
      "outputs": [
        {
          "output_type": "stream",
          "name": "stdout",
          "text": [
            "   ResponseId                      MainBranch                 Age  \\\n",
            "0           1  I am a developer by profession  Under 18 years old   \n",
            "1           2  I am a developer by profession     35-44 years old   \n",
            "2           3  I am a developer by profession     45-54 years old   \n",
            "3           4           I am learning to code     18-24 years old   \n",
            "4           5  I am a developer by profession     18-24 years old   \n",
            "\n",
            "            Employment RemoteWork   Check  \\\n",
            "0  Employed, full-time     Remote  Apples   \n",
            "1  Employed, full-time     Remote  Apples   \n",
            "2  Employed, full-time     Remote  Apples   \n",
            "3   Student, full-time        NaN  Apples   \n",
            "4   Student, full-time        NaN  Apples   \n",
            "\n",
            "                                    CodingActivities  \\\n",
            "0                                              Hobby   \n",
            "1  Hobby;Contribute to open-source projects;Other...   \n",
            "2  Hobby;Contribute to open-source projects;Other...   \n",
            "3                                                NaN   \n",
            "4                                                NaN   \n",
            "\n",
            "                                             EdLevel  \\\n",
            "0                          Primary/elementary school   \n",
            "1       Bachelor’s degree (B.A., B.S., B.Eng., etc.)   \n",
            "2    Master’s degree (M.A., M.S., M.Eng., MBA, etc.)   \n",
            "3  Some college/university study without earning ...   \n",
            "4  Secondary school (e.g. American high school, G...   \n",
            "\n",
            "                                           LearnCode  \\\n",
            "0                             Books / Physical media   \n",
            "1  Books / Physical media;Colleague;On the job tr...   \n",
            "2  Books / Physical media;Colleague;On the job tr...   \n",
            "3  Other online resources (e.g., videos, blogs, f...   \n",
            "4  Other online resources (e.g., videos, blogs, f...   \n",
            "\n",
            "                                     LearnCodeOnline  ... JobSatPoints_6  \\\n",
            "0                                                NaN  ...            NaN   \n",
            "1  Technical documentation;Blogs;Books;Written Tu...  ...            0.0   \n",
            "2  Technical documentation;Blogs;Books;Written Tu...  ...            NaN   \n",
            "3  Stack Overflow;How-to videos;Interactive tutorial  ...            NaN   \n",
            "4  Technical documentation;Blogs;Written Tutorial...  ...            NaN   \n",
            "\n",
            "  JobSatPoints_7 JobSatPoints_8 JobSatPoints_9 JobSatPoints_10  \\\n",
            "0            NaN            NaN            NaN             NaN   \n",
            "1            0.0            0.0            0.0             0.0   \n",
            "2            NaN            NaN            NaN             NaN   \n",
            "3            NaN            NaN            NaN             NaN   \n",
            "4            NaN            NaN            NaN             NaN   \n",
            "\n",
            "  JobSatPoints_11           SurveyLength SurveyEase ConvertedCompYearly JobSat  \n",
            "0             NaN                    NaN        NaN                 NaN    NaN  \n",
            "1             0.0                    NaN        NaN                 NaN    NaN  \n",
            "2             NaN  Appropriate in length       Easy                 NaN    NaN  \n",
            "3             NaN               Too long       Easy                 NaN    NaN  \n",
            "4             NaN              Too short       Easy                 NaN    NaN  \n",
            "\n",
            "[5 rows x 114 columns]\n"
          ]
        }
      ]
    },
    {
      "cell_type": "code",
      "source": [
        "# Task 1: Identify duplicate rows\n",
        "duplicates = df.duplicated()\n",
        "print(\"Duplicate rows identified:\")\n",
        "print(duplicates)\n",
        "\n",
        "# Task 1: Remove duplicate rows\n",
        "df_no_duplicates = df.drop_duplicates()\n",
        "\n",
        "# Optionally: Save the cleaned dataframe to a new CSV file\n",
        "df_no_duplicates.to_csv(\"survey_data_no_duplicates.csv\", index=False)\n",
        "\n",
        "# Display the cleaned dataframe\n",
        "print(\"Dataframe after removing duplicates:\")\n",
        "print(df_no_duplicates)"
      ],
      "metadata": {
        "colab": {
          "base_uri": "https://localhost:8080/"
        },
        "collapsed": true,
        "id": "ZdkW3vHt_nRh",
        "outputId": "91c70926-8e67-4e48-bcbe-c3e0348dd1da"
      },
      "execution_count": 6,
      "outputs": [
        {
          "output_type": "stream",
          "name": "stdout",
          "text": [
            "Duplicate rows identified:\n",
            "0        False\n",
            "1        False\n",
            "2        False\n",
            "3        False\n",
            "4        False\n",
            "         ...  \n",
            "65432    False\n",
            "65433    False\n",
            "65434    False\n",
            "65435    False\n",
            "65436    False\n",
            "Length: 65437, dtype: bool\n",
            "Dataframe after removing duplicates:\n",
            "       ResponseId                      MainBranch                 Age  \\\n",
            "0               1  I am a developer by profession  Under 18 years old   \n",
            "1               2  I am a developer by profession     35-44 years old   \n",
            "2               3  I am a developer by profession     45-54 years old   \n",
            "3               4           I am learning to code     18-24 years old   \n",
            "4               5  I am a developer by profession     18-24 years old   \n",
            "...           ...                             ...                 ...   \n",
            "65432       65433  I am a developer by profession     18-24 years old   \n",
            "65433       65434  I am a developer by profession     25-34 years old   \n",
            "65434       65435  I am a developer by profession     25-34 years old   \n",
            "65435       65436  I am a developer by profession     18-24 years old   \n",
            "65436       65437     I code primarily as a hobby     18-24 years old   \n",
            "\n",
            "                Employment                            RemoteWork   Check  \\\n",
            "0      Employed, full-time                                Remote  Apples   \n",
            "1      Employed, full-time                                Remote  Apples   \n",
            "2      Employed, full-time                                Remote  Apples   \n",
            "3       Student, full-time                                   NaN  Apples   \n",
            "4       Student, full-time                                   NaN  Apples   \n",
            "...                    ...                                   ...     ...   \n",
            "65432  Employed, full-time                                Remote  Apples   \n",
            "65433  Employed, full-time                                Remote  Apples   \n",
            "65434  Employed, full-time                             In-person  Apples   \n",
            "65435  Employed, full-time  Hybrid (some remote, some in-person)  Apples   \n",
            "65436   Student, full-time                                   NaN  Apples   \n",
            "\n",
            "                                        CodingActivities  \\\n",
            "0                                                  Hobby   \n",
            "1      Hobby;Contribute to open-source projects;Other...   \n",
            "2      Hobby;Contribute to open-source projects;Other...   \n",
            "3                                                    NaN   \n",
            "4                                                    NaN   \n",
            "...                                                  ...   \n",
            "65432                      Hobby;School or academic work   \n",
            "65433           Hobby;Contribute to open-source projects   \n",
            "65434                                              Hobby   \n",
            "65435  Hobby;Contribute to open-source projects;Profe...   \n",
            "65436                                                NaN   \n",
            "\n",
            "                                                 EdLevel  \\\n",
            "0                              Primary/elementary school   \n",
            "1           Bachelor’s degree (B.A., B.S., B.Eng., etc.)   \n",
            "2        Master’s degree (M.A., M.S., M.Eng., MBA, etc.)   \n",
            "3      Some college/university study without earning ...   \n",
            "4      Secondary school (e.g. American high school, G...   \n",
            "...                                                  ...   \n",
            "65432       Bachelor’s degree (B.A., B.S., B.Eng., etc.)   \n",
            "65433                                                NaN   \n",
            "65434       Bachelor’s degree (B.A., B.S., B.Eng., etc.)   \n",
            "65435  Secondary school (e.g. American high school, G...   \n",
            "65436                                                NaN   \n",
            "\n",
            "                                               LearnCode  \\\n",
            "0                                 Books / Physical media   \n",
            "1      Books / Physical media;Colleague;On the job tr...   \n",
            "2      Books / Physical media;Colleague;On the job tr...   \n",
            "3      Other online resources (e.g., videos, blogs, f...   \n",
            "4      Other online resources (e.g., videos, blogs, f...   \n",
            "...                                                  ...   \n",
            "65432  On the job training;School (i.e., University, ...   \n",
            "65433                                                NaN   \n",
            "65434  Other online resources (e.g., videos, blogs, f...   \n",
            "65435  On the job training;Other online resources (e....   \n",
            "65436                                                NaN   \n",
            "\n",
            "                                         LearnCodeOnline  ... JobSatPoints_6  \\\n",
            "0                                                    NaN  ...            NaN   \n",
            "1      Technical documentation;Blogs;Books;Written Tu...  ...            0.0   \n",
            "2      Technical documentation;Blogs;Books;Written Tu...  ...            NaN   \n",
            "3      Stack Overflow;How-to videos;Interactive tutorial  ...            NaN   \n",
            "4      Technical documentation;Blogs;Written Tutorial...  ...            NaN   \n",
            "...                                                  ...  ...            ...   \n",
            "65432                                                NaN  ...            NaN   \n",
            "65433                                                NaN  ...            NaN   \n",
            "65434  Technical documentation;Stack Overflow;Social ...  ...            NaN   \n",
            "65435  Technical documentation;Blogs;Written Tutorial...  ...            0.0   \n",
            "65436                                                NaN  ...            NaN   \n",
            "\n",
            "      JobSatPoints_7 JobSatPoints_8 JobSatPoints_9 JobSatPoints_10  \\\n",
            "0                NaN            NaN            NaN             NaN   \n",
            "1                0.0            0.0            0.0             0.0   \n",
            "2                NaN            NaN            NaN             NaN   \n",
            "3                NaN            NaN            NaN             NaN   \n",
            "4                NaN            NaN            NaN             NaN   \n",
            "...              ...            ...            ...             ...   \n",
            "65432            NaN            NaN            NaN             NaN   \n",
            "65433            NaN            NaN            NaN             NaN   \n",
            "65434            NaN            NaN            NaN             NaN   \n",
            "65435            0.0            0.0            0.0             0.0   \n",
            "65436            NaN            NaN            NaN             NaN   \n",
            "\n",
            "      JobSatPoints_11           SurveyLength SurveyEase ConvertedCompYearly  \\\n",
            "0                 NaN                    NaN        NaN                 NaN   \n",
            "1                 0.0                    NaN        NaN                 NaN   \n",
            "2                 NaN  Appropriate in length       Easy                 NaN   \n",
            "3                 NaN               Too long       Easy                 NaN   \n",
            "4                 NaN              Too short       Easy                 NaN   \n",
            "...               ...                    ...        ...                 ...   \n",
            "65432             NaN                    NaN        NaN                 NaN   \n",
            "65433             NaN                    NaN        NaN                 NaN   \n",
            "65434             NaN                    NaN        NaN                 NaN   \n",
            "65435             0.0                    NaN        NaN                 NaN   \n",
            "65436             NaN                    NaN        NaN                 NaN   \n",
            "\n",
            "      JobSat  \n",
            "0        NaN  \n",
            "1        NaN  \n",
            "2        NaN  \n",
            "3        NaN  \n",
            "4        NaN  \n",
            "...      ...  \n",
            "65432    NaN  \n",
            "65433    NaN  \n",
            "65434    NaN  \n",
            "65435    NaN  \n",
            "65436    NaN  \n",
            "\n",
            "[65437 rows x 114 columns]\n"
          ]
        }
      ]
    },
    {
      "cell_type": "markdown",
      "source": [
        "**Explanation:**\n",
        "\n",
        "Identify duplicates: df.duplicated() will return a boolean series that marks True for rows that are duplicates.\n",
        "Remove duplicates: df.drop_duplicates() removes duplicate rows and returns a new dataframe without them."
      ],
      "metadata": {
        "id": "0pcirFf1_9n1"
      }
    },
    {
      "cell_type": "markdown",
      "source": [
        "### Section 2: Handling Missing Values\n",
        "##### Task 2: Identify missing values in `CodingActivities`.\n"
      ],
      "metadata": {
        "id": "bHJePFs3_m-D"
      }
    },
    {
      "cell_type": "code",
      "source": [
        "# Task 2: Identify missing values in the 'CodingActivities' column\n",
        "missing_coding_activities = df['CodingActivities'].isnull()\n",
        "\n",
        "# Display the boolean series indicating missing values\n",
        "print(\"Missing values in 'CodingActivities' column:\")\n",
        "print(missing_coding_activities)\n",
        "\n",
        "# Optionally, count how many missing values are there in the column\n",
        "missing_count = missing_coding_activities.sum()\n",
        "print(f\"Number of missing values in 'CodingActivities' column: {missing_count}\")\n"
      ],
      "metadata": {
        "colab": {
          "base_uri": "https://localhost:8080/"
        },
        "collapsed": true,
        "id": "Q9DV9Bb2AuYm",
        "outputId": "7de6f976-cec1-409e-c785-90c012d8ca51"
      },
      "execution_count": 7,
      "outputs": [
        {
          "output_type": "stream",
          "name": "stdout",
          "text": [
            "Missing values in 'CodingActivities' column:\n",
            "0        False\n",
            "1        False\n",
            "2        False\n",
            "3         True\n",
            "4         True\n",
            "         ...  \n",
            "65432    False\n",
            "65433    False\n",
            "65434    False\n",
            "65435    False\n",
            "65436     True\n",
            "Name: CodingActivities, Length: 65437, dtype: bool\n",
            "Number of missing values in 'CodingActivities' column: 10971\n"
          ]
        }
      ]
    },
    {
      "cell_type": "markdown",
      "source": [
        "**Explanation:**\n",
        "\n",
        "df['CodingActivities'].isnull() will return a boolean series indicating True for missing values and False for non-missing values.\n",
        "missing_coding_activities.sum() will give you the total count of missing values in the column."
      ],
      "metadata": {
        "id": "ww0XY2GlBSUI"
      }
    },
    {
      "cell_type": "markdown",
      "source": [
        "##### Task 3: Impute missing values in CodingActivities with forward-fill.\n"
      ],
      "metadata": {
        "id": "tIGwS0mZBJe5"
      }
    },
    {
      "cell_type": "code",
      "source": [
        "# Task 3: Impute missing values in 'CodingActivities' column with forward-fill\n",
        "df['CodingActivities'] = df['CodingActivities'].fillna(method='ffill')\n",
        "\n",
        "# Optionally, check if there are any remaining missing values\n",
        "missing_after_fill = df['CodingActivities'].isnull().sum()\n",
        "print(f\"Number of missing values after forward-fill: {missing_after_fill}\")\n"
      ],
      "metadata": {
        "id": "Y_Em4xtABKTP"
      },
      "execution_count": null,
      "outputs": []
    },
    {
      "cell_type": "markdown",
      "source": [
        "**Explanation:**\n",
        "\n",
        "df['CodingActivities'].fillna(method='ffill') will replace missing values in the CodingActivities column by forwarding the previous valid value.\n",
        "isnull().sum() helps verify that there are no more missing values in the column after the forward-fill operation."
      ],
      "metadata": {
        "id": "8oOWEucTBhDE"
      }
    },
    {
      "cell_type": "markdown",
      "source": [
        "### **Section 3: Normalizing Compensation Data**\n",
        "\n",
        "Task 4: Identify compensation-related columns, such as ConvertedCompYearly.\n",
        "Normalization is commonly applied to compensation data to bring values within a comparable range. Here, you’ll identify ConvertedCompYearly or similar columns, which contain compensation information. This column will be used in the subsequent tasks for normalization.\n",
        "\n",
        "\n",
        "Task 5: Normalize ConvertedCompYearly using Min-Max Scaling.\n",
        "Min-Max Scaling brings all values in a column to a 0-1 range, making it useful for comparing data across different scales. Here, you will apply Min-Max normalization to the ConvertedCompYearly column, creating a new column ConvertedCompYearly_MinMax with normalized values.\n",
        "\n",
        "\n",
        "Task 6: Apply Z-score Normalization to ConvertedCompYearly.\n",
        "Z-score normalization standardizes values by converting them to a distribution with a mean of 0 and a standard deviation of 1. This method is helpful for datasets with a Gaussian (normal) distribution. Here, you’ll calculate Z-scores for the ConvertedCompYearly column, saving the results in a new column ConvertedCompYearly_Zscore.\n",
        "\n"
      ],
      "metadata": {
        "id": "SzfkujtNB3Up"
      }
    },
    {
      "cell_type": "markdown",
      "source": [
        "**Task 4: Identify Compensation-Related Columns**\n",
        "\n",
        "To identify compensation-related columns, look for columns that might contain salary or compensation data, such as ConvertedCompYearly. We can check the column names for relevant keywords like \"compensation,\" \"salary,\" or \"pay.\""
      ],
      "metadata": {
        "id": "Q_kKJ5YrClIc"
      }
    },
    {
      "cell_type": "code",
      "source": [
        "# Task 4: Identify compensation-related columns\n",
        "compensation_columns = [col for col in df.columns if 'comp' in col.lower() or 'salary' in col.lower() or 'pay' in col.lower()]\n",
        "print(\"Compensation-related columns:\", compensation_columns)\n"
      ],
      "metadata": {
        "colab": {
          "base_uri": "https://localhost:8080/"
        },
        "id": "r-MYv733CSiE",
        "outputId": "ebce875f-6d6a-44cc-e7a6-cfdab9130944"
      },
      "execution_count": 8,
      "outputs": [
        {
          "output_type": "stream",
          "name": "stdout",
          "text": [
            "Compensation-related columns: ['CompTotal', 'AIComplex', 'ConvertedCompYearly']\n"
          ]
        }
      ]
    },
    {
      "cell_type": "markdown",
      "source": [
        "**Task 5: Normalize ConvertedCompYearly Using Min-Max Scaling**\n",
        "Min-Max scaling transforms the data to a 0-1 range. You can apply this scaling using the MinMaxScaler from sklearn.preprocessing."
      ],
      "metadata": {
        "id": "7pedS12ICS_v"
      }
    },
    {
      "cell_type": "code",
      "source": [
        "from sklearn.preprocessing import MinMaxScaler\n",
        "\n",
        "# Task 5: Normalize ConvertedCompYearly using Min-Max Scaling\n",
        "scaler = MinMaxScaler()\n",
        "\n",
        "# Ensure the column exists in the dataframe\n",
        "if 'ConvertedCompYearly' in df.columns:\n",
        "    df['ConvertedCompYearly_MinMax'] = scaler.fit_transform(df[['ConvertedCompYearly']])\n",
        "    print(\"Min-Max Scaling applied to 'ConvertedCompYearly'.\")\n",
        "else:\n",
        "    print(\"'ConvertedCompYearly' column not found.\")\n"
      ],
      "metadata": {
        "id": "dD3P-7teC2uH"
      },
      "execution_count": null,
      "outputs": []
    },
    {
      "cell_type": "markdown",
      "source": [
        "**Task 6: Apply Z-score Normalization to ConvertedCompYearly**\n",
        "\n",
        "Z-score normalization standardizes the data by converting it to a distribution with a mean of 0 and a standard deviation of 1. This can be done using the StandardScaler from sklearn.preprocessing.\n",
        "\n"
      ],
      "metadata": {
        "id": "mjkTYaU5CUT0"
      }
    },
    {
      "cell_type": "code",
      "source": [
        "from sklearn.preprocessing import StandardScaler\n",
        "\n",
        "# Task 6: Apply Z-score normalization to ConvertedCompYearly\n",
        "scaler = StandardScaler()\n",
        "\n",
        "# Ensure the column exists in the dataframe\n",
        "if 'ConvertedCompYearly' in df.columns:\n",
        "    df['ConvertedCompYearly_Zscore'] = scaler.fit_transform(df[['ConvertedCompYearly']])\n",
        "    print(\"Z-score normalization applied to 'ConvertedCompYearly'.\")\n",
        "else:\n",
        "    print(\"'ConvertedCompYearly' column not found.\")\n"
      ],
      "metadata": {
        "colab": {
          "base_uri": "https://localhost:8080/"
        },
        "id": "WFLoGS43CTon",
        "outputId": "d3ae0743-9195-4872-c2ee-66577ca8b6de"
      },
      "execution_count": 9,
      "outputs": [
        {
          "output_type": "stream",
          "name": "stdout",
          "text": [
            "Z-score normalization applied to 'ConvertedCompYearly'.\n"
          ]
        }
      ]
    },
    {
      "cell_type": "markdown",
      "source": [
        "### **Section 4: Visualization of Normalized Data**\n",
        "**Task 7: Visualize the distribution of ConvertedCompYearly, ConvertedCompYearly_Normalized, and ConvertedCompYearly_Zscore**\n",
        "\n",
        "Visualization helps you understand how normalization changes the data distribution. In this task, create histograms for the original ConvertedCompYearly, as well as its normalized versions (ConvertedCompYearly_MinMax and ConvertedCompYearly_Zscore). This will help you compare how each normalization technique affects the data range and distribution."
      ],
      "metadata": {
        "id": "tOp2ZwSzCWlU"
      }
    },
    {
      "cell_type": "code",
      "source": [
        "from sklearn.preprocessing import MinMaxScaler\n",
        "\n",
        "# Ensure the 'ConvertedCompYearly' column exists\n",
        "if 'ConvertedCompYearly' in df.columns:\n",
        "    # Apply Min-Max scaling again to create the 'ConvertedCompYearly_MinMax' column\n",
        "    scaler = MinMaxScaler()\n",
        "    df['ConvertedCompYearly_MinMax'] = scaler.fit_transform(df[['ConvertedCompYearly']])\n",
        "    print(\"Min-Max scaling applied and 'ConvertedCompYearly_MinMax' column created.\")\n",
        "else:\n",
        "    print(\"'ConvertedCompYearly' column not found.\")\n"
      ],
      "metadata": {
        "colab": {
          "base_uri": "https://localhost:8080/"
        },
        "id": "FeJSVrb1FFCj",
        "outputId": "f0de365f-0207-475b-fb05-a4787ee4267d"
      },
      "execution_count": 12,
      "outputs": [
        {
          "output_type": "stream",
          "name": "stdout",
          "text": [
            "Min-Max scaling applied and 'ConvertedCompYearly_MinMax' column created.\n"
          ]
        }
      ]
    },
    {
      "cell_type": "code",
      "source": [
        "# Check the columns of the dataframe\n",
        "print(df.columns)\n"
      ],
      "metadata": {
        "colab": {
          "base_uri": "https://localhost:8080/"
        },
        "id": "VGS-f8ozFPVs",
        "outputId": "b4d1efab-6a47-4902-abeb-e828bda85138"
      },
      "execution_count": 13,
      "outputs": [
        {
          "output_type": "stream",
          "name": "stdout",
          "text": [
            "Index(['ResponseId', 'MainBranch', 'Age', 'Employment', 'RemoteWork', 'Check',\n",
            "       'CodingActivities', 'EdLevel', 'LearnCode', 'LearnCodeOnline',\n",
            "       ...\n",
            "       'JobSatPoints_8', 'JobSatPoints_9', 'JobSatPoints_10',\n",
            "       'JobSatPoints_11', 'SurveyLength', 'SurveyEase', 'ConvertedCompYearly',\n",
            "       'JobSat', 'ConvertedCompYearly_Zscore', 'ConvertedCompYearly_MinMax'],\n",
            "      dtype='object', length=116)\n"
          ]
        }
      ]
    },
    {
      "cell_type": "code",
      "source": [
        "import matplotlib.pyplot as plt\n",
        "\n",
        "# Task 7: Visualize the distribution of ConvertedCompYearly, ConvertedCompYearly_Normalized, and ConvertedCompYearly_Zscore\n",
        "plt.figure(figsize=(12, 8))\n",
        "\n",
        "# Histogram for the original 'ConvertedCompYearly'\n",
        "plt.subplot(3, 1, 1)\n",
        "plt.hist(df['ConvertedCompYearly'].dropna(), bins=30, color='blue', alpha=0.7)\n",
        "plt.title('Original ConvertedCompYearly')\n",
        "plt.xlabel('ConvertedCompYearly')\n",
        "plt.ylabel('Frequency')\n",
        "\n",
        "# Histogram for the Min-Max normalized 'ConvertedCompYearly_MinMax'\n",
        "plt.subplot(3, 1, 2)\n",
        "plt.hist(df['ConvertedCompYearly_MinMax'].dropna(), bins=30, color='green', alpha=0.7)\n",
        "plt.title('Min-Max Normalized ConvertedCompYearly')\n",
        "plt.xlabel('ConvertedCompYearly_MinMax')\n",
        "plt.ylabel('Frequency')\n",
        "\n",
        "# Histogram for the Z-score normalized 'ConvertedCompYearly_Zscore'\n",
        "plt.subplot(3, 1, 3)\n",
        "plt.hist(df['ConvertedCompYearly_Zscore'].dropna(), bins=30, color='red', alpha=0.7)\n",
        "plt.title('Z-score Normalized ConvertedCompYearly')\n",
        "plt.xlabel('ConvertedCompYearly_Zscore')\n",
        "plt.ylabel('Frequency')\n",
        "\n",
        "# Adjust the layout for better spacing\n",
        "plt.tight_layout()\n",
        "\n",
        "# Show the plots\n",
        "plt.show()\n"
      ],
      "metadata": {
        "colab": {
          "base_uri": "https://localhost:8080/",
          "height": 749
        },
        "id": "W7_t5xBnDf_S",
        "outputId": "8802de8e-8dce-4b9b-8da3-2bf8ddfd76f2"
      },
      "execution_count": 14,
      "outputs": [
        {
          "output_type": "display_data",
          "data": {
            "text/plain": [
              "<Figure size 1200x800 with 3 Axes>"
            ],
            "image/png": "[encoded data removed]"
          },
          "metadata": {}
        }
      ]
    },
    {
      "cell_type": "markdown",
      "source": [
        "**Explanation:**\n",
        "\n",
        "Histograms: Each of the three columns (ConvertedCompYearly, ConvertedCompYearly_MinMax, and ConvertedCompYearly_Zscore) is visualized in separate histograms.\n",
        "Subplot: Each histogram is plotted in a subplot for easy comparison.\n",
        "dropna(): Ensures that missing values (NaN) are ignored during the plotting."
      ],
      "metadata": {
        "id": "qewiuE6lEK7A"
      }
    },
    {
      "cell_type": "code",
      "source": [],
      "metadata": {
        "id": "m3rcUkVqB4UM"
      },
      "execution_count": null,
      "outputs": []
    }
  ]
}