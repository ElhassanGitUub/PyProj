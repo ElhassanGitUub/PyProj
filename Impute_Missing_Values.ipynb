{
  "nbformat": 4,
  "nbformat_minor": 0,
  "metadata": {
    "colab": {
      "provenance": [],
      "authorship_tag": "ABX9TyOQrbXsv3B0qvnal4jpP4na",
      "include_colab_link": true
    },
    "kernelspec": {
      "name": "python3",
      "display_name": "Python 3"
    },
    "language_info": {
      "name": "python"
    }
  },
  "cells": [
    {
      "cell_type": "markdown",
      "metadata": {
        "id": "view-in-github",
        "colab_type": "text"
      },
      "source": [
        "<a href=\"https://colab.research.google.com/github/ElhassanGitUub/PyProj/blob/main/Impute_Missing_Values.ipynb\" target=\"_parent\"><img src=\"https://colab.research.google.com/assets/colab-badge.svg\" alt=\"Open In Colab\"/></a>"
      ]
    },
    {
      "cell_type": "markdown",
      "source": [
        "**Impute Missing Values**\n",
        "\n",
        "Estimated time needed:\n",
        "\n",
        "In this lab, you will practice essential data wrangling techniques using the Stack Overflow survey dataset. The primary focus is on handling missing data and ensuring data quality. You will:\n",
        "\n",
        "Load the Data: Import the dataset into a DataFrame using the pandas library.\n",
        "\n",
        "Clean the Data: Identify and remove duplicate entries to maintain data integrity.\n",
        "\n",
        "Handle Missing Values: Detect missing values, impute them with appropriate strategies, and verify the imputation to create a complete and reliable dataset for analysis.\n",
        "\n",
        "This lab equips you with the skills to effectively preprocess and clean real-world datasets, a crucial step in any data analysis project.\n",
        "\n",
        "Objectives\n",
        "In this lab, you will perform the following:\n",
        "\n",
        "Identify missing values in the dataset.\n",
        "\n",
        "Apply techniques to impute missing values in the dataset.\n",
        "\n",
        "Use suitable techniques to normalize data in the dataset.\n",
        "\n"
      ],
      "metadata": {
        "id": "EsLJx_q75I3D"
      }
    },
    {
      "cell_type": "markdown",
      "source": [
        "### Step 1: Import Required Libraries"
      ],
      "metadata": {
        "id": "OolFDJEj5ado"
      }
    },
    {
      "cell_type": "code",
      "execution_count": 1,
      "metadata": {
        "id": "fqWg65H44yXI"
      },
      "outputs": [],
      "source": [
        "import pandas as pd"
      ]
    },
    {
      "cell_type": "markdown",
      "source": [
        "### Step 2: Load the Dataset Into a Dataframe\n"
      ],
      "metadata": {
        "id": "dvPgiyPn5kCG"
      }
    },
    {
      "cell_type": "code",
      "source": [
        "file_path = \"https://cf-courses-data.s3.us.cloud-object-storage.appdomain.cloud/n01PQ9pSmiRX6520flujwQ/survey-data.csv\"\n",
        "df = pd.read_csv(file_path)\n",
        "\n",
        "# Display the first few rows to ensure it loaded correctly\n",
        "print(df.head())"
      ],
      "metadata": {
        "colab": {
          "base_uri": "https://localhost:8080/"
        },
        "id": "k-VyKAtH5Sx3",
        "outputId": "6a43b53a-2447-4f37-acb6-3cec337e2828"
      },
      "execution_count": 5,
      "outputs": [
        {
          "output_type": "stream",
          "name": "stdout",
          "text": [
            "   ResponseId                      MainBranch                 Age  \\\n",
            "0           1  I am a developer by profession  Under 18 years old   \n",
            "1           2  I am a developer by profession     35-44 years old   \n",
            "2           3  I am a developer by profession     45-54 years old   \n",
            "3           4           I am learning to code     18-24 years old   \n",
            "4           5  I am a developer by profession     18-24 years old   \n",
            "\n",
            "            Employment RemoteWork   Check  \\\n",
            "0  Employed, full-time     Remote  Apples   \n",
            "1  Employed, full-time     Remote  Apples   \n",
            "2  Employed, full-time     Remote  Apples   \n",
            "3   Student, full-time        NaN  Apples   \n",
            "4   Student, full-time        NaN  Apples   \n",
            "\n",
            "                                    CodingActivities  \\\n",
            "0                                              Hobby   \n",
            "1  Hobby;Contribute to open-source projects;Other...   \n",
            "2  Hobby;Contribute to open-source projects;Other...   \n",
            "3                                                NaN   \n",
            "4                                                NaN   \n",
            "\n",
            "                                             EdLevel  \\\n",
            "0                          Primary/elementary school   \n",
            "1       Bachelor’s degree (B.A., B.S., B.Eng., etc.)   \n",
            "2    Master’s degree (M.A., M.S., M.Eng., MBA, etc.)   \n",
            "3  Some college/university study without earning ...   \n",
            "4  Secondary school (e.g. American high school, G...   \n",
            "\n",
            "                                           LearnCode  \\\n",
            "0                             Books / Physical media   \n",
            "1  Books / Physical media;Colleague;On the job tr...   \n",
            "2  Books / Physical media;Colleague;On the job tr...   \n",
            "3  Other online resources (e.g., videos, blogs, f...   \n",
            "4  Other online resources (e.g., videos, blogs, f...   \n",
            "\n",
            "                                     LearnCodeOnline  ... JobSatPoints_6  \\\n",
            "0                                                NaN  ...            NaN   \n",
            "1  Technical documentation;Blogs;Books;Written Tu...  ...            0.0   \n",
            "2  Technical documentation;Blogs;Books;Written Tu...  ...            NaN   \n",
            "3  Stack Overflow;How-to videos;Interactive tutorial  ...            NaN   \n",
            "4  Technical documentation;Blogs;Written Tutorial...  ...            NaN   \n",
            "\n",
            "  JobSatPoints_7 JobSatPoints_8 JobSatPoints_9 JobSatPoints_10  \\\n",
            "0            NaN            NaN            NaN             NaN   \n",
            "1            0.0            0.0            0.0             0.0   \n",
            "2            NaN            NaN            NaN             NaN   \n",
            "3            NaN            NaN            NaN             NaN   \n",
            "4            NaN            NaN            NaN             NaN   \n",
            "\n",
            "  JobSatPoints_11           SurveyLength SurveyEase ConvertedCompYearly JobSat  \n",
            "0             NaN                    NaN        NaN                 NaN    NaN  \n",
            "1             0.0                    NaN        NaN                 NaN    NaN  \n",
            "2             NaN  Appropriate in length       Easy                 NaN    NaN  \n",
            "3             NaN               Too long       Easy                 NaN    NaN  \n",
            "4             NaN              Too short       Easy                 NaN    NaN  \n",
            "\n",
            "[5 rows x 114 columns]\n"
          ]
        }
      ]
    },
    {
      "cell_type": "markdown",
      "source": [
        "**Step 3. Finding and Removing Duplicates**\n",
        "**bold text**\n",
        "\n",
        "Task 1: Identify duplicate rows in the dataset.\n",
        "Task 2: Remove the duplicate rows from the dataframe"
      ],
      "metadata": {
        "id": "z-1nFa8l5k0x"
      }
    },
    {
      "cell_type": "code",
      "source": [
        "import pandas as pd\n",
        "\n",
        "# Sample dataframe (replace with your actual dataframe)\n",
        "df = pd.DataFrame({\n",
        "    'A': [1, 2, 3, 4, 1],\n",
        "    'B': [5, 6, 7, 8, 5],\n",
        "    'C': [9, 10, 11, 12, 9]\n",
        "})\n",
        "\n",
        "# Identify duplicates\n",
        "duplicates = df.duplicated()\n",
        "print(duplicates)"
      ],
      "metadata": {
        "colab": {
          "base_uri": "https://localhost:8080/"
        },
        "collapsed": true,
        "id": "Nr7vpw3N6AMy",
        "outputId": "44536a85-3664-46fa-93a2-256eefa64668"
      },
      "execution_count": 3,
      "outputs": [
        {
          "output_type": "stream",
          "name": "stdout",
          "text": [
            "0    False\n",
            "1    False\n",
            "2    False\n",
            "3    False\n",
            "4     True\n",
            "dtype: bool\n"
          ]
        }
      ]
    },
    {
      "cell_type": "code",
      "source": [
        "duplicates = df.duplicated()\n",
        "print(\"Duplicate rows identified:\")\n",
        "print(duplicates)\n",
        "\n",
        "# Task 2: Remove duplicate rows\n",
        "df_no_duplicates = df.drop_duplicates()\n",
        "\n",
        "# Optional: If you'd like to keep the cleaned dataset, you can save it as a new CSV\n",
        "df_no_duplicates.to_csv(\"survey_data_no_duplicates.csv\", index=False)\n"
      ],
      "metadata": {
        "colab": {
          "base_uri": "https://localhost:8080/"
        },
        "id": "iUBmn9x863eX",
        "outputId": "e871f78d-f680-4343-aa3e-57e05c22f344"
      },
      "execution_count": 6,
      "outputs": [
        {
          "output_type": "stream",
          "name": "stdout",
          "text": [
            "Duplicate rows identified:\n",
            "0        False\n",
            "1        False\n",
            "2        False\n",
            "3        False\n",
            "4        False\n",
            "         ...  \n",
            "65432    False\n",
            "65433    False\n",
            "65434    False\n",
            "65435    False\n",
            "65436    False\n",
            "Length: 65437, dtype: bool\n"
          ]
        }
      ]
    },
    {
      "cell_type": "markdown",
      "source": [],
      "metadata": {
        "id": "avzkiQV-7Z1F"
      }
    },
    {
      "cell_type": "markdown",
      "source": [
        "**Step 4: Finding Missing Values**\n",
        "\n",
        "Task 3: Find the missing values for all columns.\n",
        "\n",
        "Task 4: Find out how many rows are missing in the column RemoteWork."
      ],
      "metadata": {
        "id": "XM6oKqBI7k6P"
      }
    },
    {
      "cell_type": "code",
      "source": [
        "# Task 3: Find the missing values for all columns\n",
        "\n",
        "# Find missing values for all columns\n",
        "missing_values = df.isnull().sum()\n",
        "print(\"Missing values per column:\")\n",
        "print(missing_values)"
      ],
      "metadata": {
        "colab": {
          "base_uri": "https://localhost:8080/"
        },
        "collapsed": true,
        "id": "GD_0LMZs7Yk0",
        "outputId": "404b98cc-6b8a-4f4e-dbfb-856e17b18d0e"
      },
      "execution_count": 7,
      "outputs": [
        {
          "output_type": "stream",
          "name": "stdout",
          "text": [
            "Missing values per column:\n",
            "ResponseId                 0\n",
            "MainBranch                 0\n",
            "Age                        0\n",
            "Employment                 0\n",
            "RemoteWork             10631\n",
            "                       ...  \n",
            "JobSatPoints_11        35992\n",
            "SurveyLength            9255\n",
            "SurveyEase              9199\n",
            "ConvertedCompYearly    42002\n",
            "JobSat                 36311\n",
            "Length: 114, dtype: int64\n"
          ]
        }
      ]
    },
    {
      "cell_type": "code",
      "source": [
        "#Task 4: Find out how many rows are missing in the column RemoteWork\n",
        "\n",
        "# Find how many rows are missing in the 'RemoteWork' column\n",
        "missing_remote_work = df['RemoteWork'].isnull().sum()\n",
        "print(f\"Rows missing in 'RemoteWork' column: {missing_remote_work}\")"
      ],
      "metadata": {
        "colab": {
          "base_uri": "https://localhost:8080/"
        },
        "id": "l3jGBsLR77wM",
        "outputId": "231f58d7-73a9-4767-cffd-e3c9d6087f92"
      },
      "execution_count": 8,
      "outputs": [
        {
          "output_type": "stream",
          "name": "stdout",
          "text": [
            "Rows missing in 'RemoteWork' column: 10631\n"
          ]
        }
      ]
    },
    {
      "cell_type": "markdown",
      "source": [
        "**Step 5. Imputing Missing Values**\n",
        "\n",
        "Task 5: Find the value counts for the column RemoteWork.\n",
        "\n",
        "Task 6: Identify the most frequent (majority) value in the RemoteWork column.\n",
        "\n",
        "Task 7: Impute (replace) all the empty rows in the column RemoteWork with the majority value.\n",
        "\n",
        "Task 8: Check for any compensation-related columns and describe their distribution.\n"
      ],
      "metadata": {
        "id": "gM09Isoo8boP"
      }
    },
    {
      "cell_type": "code",
      "source": [
        "# Task 5: Find value counts for the 'RemoteWork' column\n",
        "remote_work_counts = df['RemoteWork'].value_counts()\n",
        "print(\"Value counts for 'RemoteWork' column:\")\n",
        "print(remote_work_counts)"
      ],
      "metadata": {
        "colab": {
          "base_uri": "https://localhost:8080/"
        },
        "collapsed": true,
        "id": "meAgAz0q8xA-",
        "outputId": "dc942e96-7953-418e-be56-073698f0caf2"
      },
      "execution_count": 9,
      "outputs": [
        {
          "output_type": "stream",
          "name": "stdout",
          "text": [
            "Value counts for 'RemoteWork' column:\n",
            "RemoteWork\n",
            "Hybrid (some remote, some in-person)    23015\n",
            "Remote                                  20831\n",
            "In-person                               10960\n",
            "Name: count, dtype: int64\n"
          ]
        }
      ]
    },
    {
      "cell_type": "code",
      "source": [
        "# Task 6: Identify the most frequent value in the 'RemoteWork' column\n",
        "most_frequent_value = df['RemoteWork'].mode()[0]\n",
        "print(f\"The most frequent value in 'RemoteWork' column is: {most_frequent_value}\")"
      ],
      "metadata": {
        "colab": {
          "base_uri": "https://localhost:8080/"
        },
        "id": "VUNJqWZK87Jp",
        "outputId": "b00582ee-2770-4a54-b90c-e6d54f84a16d"
      },
      "execution_count": 10,
      "outputs": [
        {
          "output_type": "stream",
          "name": "stdout",
          "text": [
            "The most frequent value in 'RemoteWork' column is: Hybrid (some remote, some in-person)\n"
          ]
        }
      ]
    },
    {
      "cell_type": "code",
      "source": [
        "# Task 7: Impute missing values in 'RemoteWork' column with the majority value\n",
        "df['RemoteWork'] = df['RemoteWork'].fillna(most_frequent_value)\n",
        "print(\"Missing values in 'RemoteWork' column have been replaced.\")"
      ],
      "metadata": {
        "colab": {
          "base_uri": "https://localhost:8080/"
        },
        "id": "GppfI6-C9CUO",
        "outputId": "5b57af72-91d4-4407-fda4-72f84b7b18fb"
      },
      "execution_count": 11,
      "outputs": [
        {
          "output_type": "stream",
          "name": "stdout",
          "text": [
            "Missing values in 'RemoteWork' column have been replaced.\n"
          ]
        }
      ]
    },
    {
      "cell_type": "code",
      "source": [
        "# Task 8: Check for compensation-related columns\n",
        "compensation_columns = [col for col in df.columns if 'salary' in col.lower() or 'compensation' in col.lower() or 'pay' in col.lower()]\n",
        "print(\"Compensation-related columns:\", compensation_columns)\n",
        "\n",
        "# Describe their distribution\n",
        "if compensation_columns:\n",
        "    compensation_description = df[compensation_columns].describe()\n",
        "    print(\"Distribution of compensation-related columns:\")"
      ],
      "metadata": {
        "colab": {
          "base_uri": "https://localhost:8080/"
        },
        "id": "OoAkw8Go9TlX",
        "outputId": "a0f9ed83-8abb-4352-c4d3-a1fb16e5798a"
      },
      "execution_count": 12,
      "outputs": [
        {
          "output_type": "stream",
          "name": "stdout",
          "text": [
            "Compensation-related columns: []\n"
          ]
        }
      ]
    },
    {
      "cell_type": "markdown",
      "source": [
        "**Summary**\n",
        "\n",
        "In this lab, you focused on imputing missing values in the dataset.\n",
        "\n",
        "Use the pandas.read_csv() function to load a dataset from a CSV file into a DataFrame.\n",
        "\n",
        "Download the dataset if it's not available online and specify the correct file path.\n",
        "\n"
      ],
      "metadata": {
        "id": "XcKvDn119grb"
      }
    }
  ]
}