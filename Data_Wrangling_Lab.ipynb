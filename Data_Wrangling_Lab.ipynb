{
  "nbformat": 4,
  "nbformat_minor": 0,
  "metadata": {
    "colab": {
      "provenance": [],
      "authorship_tag": "ABX9TyNK5uw0BzshP1bBSbnXXUb3",
      "include_colab_link": true
    },
    "kernelspec": {
      "name": "python3",
      "display_name": "Python 3"
    },
    "language_info": {
      "name": "python"
    }
  },
  "cells": [
    {
      "cell_type": "markdown",
      "metadata": {
        "id": "view-in-github",
        "colab_type": "text"
      },
      "source": [
        "<a href=\"https://colab.research.google.com/github/ElhassanGitUub/PyProj/blob/main/Data_Wrangling_Lab.ipynb\" target=\"_parent\"><img src=\"https://colab.research.google.com/assets/colab-badge.svg\" alt=\"Open In Colab\"/></a>"
      ]
    },
    {
      "cell_type": "markdown",
      "source": [
        "# **Data Wrangling Lab**\n"
      ],
      "metadata": {
        "id": "xcfCRlTNQ9GB"
      }
    },
    {
      "cell_type": "markdown",
      "source": [
        "In this lab, you will perform data wrangling tasks to prepare raw data for analysis. Data wrangling involves cleaning, transforming, and organizing data into a structured format suitable for analysis. This lab focuses on tasks like identifying inconsistencies, encoding categorical variables, and feature transformation.\n",
        "\n",
        "### **Objectives**\n",
        "After completing this lab, you will be able to:\n",
        "\n",
        "Identify and remove inconsistent data entries.\n",
        "\n",
        "Encode categorical variables for analysis.\n",
        "\n",
        "Handle missing values using multiple imputation strategies.\n",
        "\n",
        "Apply feature scaling and transformation techniques."
      ],
      "metadata": {
        "id": "z6MaNzrfRBXx"
      }
    },
    {
      "cell_type": "markdown",
      "source": [
        "#### Intsall the required libraries\n",
        "!pip install pandas\n",
        "\n",
        "!pip install matplotlib"
      ],
      "metadata": {
        "id": "5QBYmZAIRVV6"
      }
    },
    {
      "cell_type": "markdown",
      "source": [
        "#### **Tasks**\n",
        "Step 1: Import the necessary module.\n",
        "1. Load the Dataset\n",
        "1.1 Import necessary libraries and load the dataset.\n",
        "Ensure the dataset is loaded correctly by displaying the first few rows."
      ],
      "metadata": {
        "id": "QgOrhLICRjXq"
      }
    },
    {
      "cell_type": "code",
      "execution_count": 1,
      "metadata": {
        "colab": {
          "base_uri": "https://localhost:8080/"
        },
        "collapsed": true,
        "id": "OqiA8FTxQAHf",
        "outputId": "7968747c-9265-4d70-a5bb-0aba3d30b3d8"
      },
      "outputs": [
        {
          "output_type": "stream",
          "name": "stdout",
          "text": [
            "   ResponseId                      MainBranch                 Age  \\\n",
            "0           1  I am a developer by profession  Under 18 years old   \n",
            "1           2  I am a developer by profession     35-44 years old   \n",
            "2           3  I am a developer by profession     45-54 years old   \n",
            "3           4           I am learning to code     18-24 years old   \n",
            "4           5  I am a developer by profession     18-24 years old   \n",
            "\n",
            "            Employment RemoteWork   Check  \\\n",
            "0  Employed, full-time     Remote  Apples   \n",
            "1  Employed, full-time     Remote  Apples   \n",
            "2  Employed, full-time     Remote  Apples   \n",
            "3   Student, full-time        NaN  Apples   \n",
            "4   Student, full-time        NaN  Apples   \n",
            "\n",
            "                                    CodingActivities  \\\n",
            "0                                              Hobby   \n",
            "1  Hobby;Contribute to open-source projects;Other...   \n",
            "2  Hobby;Contribute to open-source projects;Other...   \n",
            "3                                                NaN   \n",
            "4                                                NaN   \n",
            "\n",
            "                                             EdLevel  \\\n",
            "0                          Primary/elementary school   \n",
            "1       Bachelor’s degree (B.A., B.S., B.Eng., etc.)   \n",
            "2    Master’s degree (M.A., M.S., M.Eng., MBA, etc.)   \n",
            "3  Some college/university study without earning ...   \n",
            "4  Secondary school (e.g. American high school, G...   \n",
            "\n",
            "                                           LearnCode  \\\n",
            "0                             Books / Physical media   \n",
            "1  Books / Physical media;Colleague;On the job tr...   \n",
            "2  Books / Physical media;Colleague;On the job tr...   \n",
            "3  Other online resources (e.g., videos, blogs, f...   \n",
            "4  Other online resources (e.g., videos, blogs, f...   \n",
            "\n",
            "                                     LearnCodeOnline  ... JobSatPoints_6  \\\n",
            "0                                                NaN  ...            NaN   \n",
            "1  Technical documentation;Blogs;Books;Written Tu...  ...            0.0   \n",
            "2  Technical documentation;Blogs;Books;Written Tu...  ...            NaN   \n",
            "3  Stack Overflow;How-to videos;Interactive tutorial  ...            NaN   \n",
            "4  Technical documentation;Blogs;Written Tutorial...  ...            NaN   \n",
            "\n",
            "  JobSatPoints_7 JobSatPoints_8 JobSatPoints_9 JobSatPoints_10  \\\n",
            "0            NaN            NaN            NaN             NaN   \n",
            "1            0.0            0.0            0.0             0.0   \n",
            "2            NaN            NaN            NaN             NaN   \n",
            "3            NaN            NaN            NaN             NaN   \n",
            "4            NaN            NaN            NaN             NaN   \n",
            "\n",
            "  JobSatPoints_11           SurveyLength SurveyEase ConvertedCompYearly JobSat  \n",
            "0             NaN                    NaN        NaN                 NaN    NaN  \n",
            "1             0.0                    NaN        NaN                 NaN    NaN  \n",
            "2             NaN  Appropriate in length       Easy                 NaN    NaN  \n",
            "3             NaN               Too long       Easy                 NaN    NaN  \n",
            "4             NaN              Too short       Easy                 NaN    NaN  \n",
            "\n",
            "[5 rows x 114 columns]\n"
          ]
        }
      ],
      "source": [
        "# Import necessary libraries\n",
        "import pandas as pd\n",
        "\n",
        "# Load the Stack Overflow survey data\n",
        "dataset_url = \"https://cf-courses-data.s3.us.cloud-object-storage.appdomain.cloud/n01PQ9pSmiRX6520flujwQ/survey-data.csv\"\n",
        "df = pd.read_csv(dataset_url)\n",
        "\n",
        "# Display the first few rows\n",
        "print(df.head())\n"
      ]
    },
    {
      "cell_type": "markdown",
      "source": [
        "#### 2. Explore the Dataset\n",
        "<h5>2.1 Summarize the dataset by displaying the column data types, counts, and missing values.</h5>\n"
      ],
      "metadata": {
        "id": "738WtHDHgMHA"
      }
    },
    {
      "cell_type": "code",
      "source": [
        "# Display column data types, non-null counts, and total entries\n",
        "print(\"Dataset Summary:\\n\")\n",
        "print(df.info())\n",
        "\n",
        "# Count the number of missing values in each column\n",
        "print(\"\\nMissing Values per Column:\\n\")\n",
        "print(df.isnull().sum())\n"
      ],
      "metadata": {
        "colab": {
          "base_uri": "https://localhost:8080/"
        },
        "id": "dc_hm4AkgY7D",
        "outputId": "d68bca00-7d8b-453d-8d87-d075a38e0a09"
      },
      "execution_count": 2,
      "outputs": [
        {
          "output_type": "stream",
          "name": "stdout",
          "text": [
            "Dataset Summary:\n",
            "\n",
            "<class 'pandas.core.frame.DataFrame'>\n",
            "RangeIndex: 65437 entries, 0 to 65436\n",
            "Columns: 114 entries, ResponseId to JobSat\n",
            "dtypes: float64(13), int64(1), object(100)\n",
            "memory usage: 56.9+ MB\n",
            "None\n",
            "\n",
            "Missing Values per Column:\n",
            "\n",
            "ResponseId                 0\n",
            "MainBranch                 0\n",
            "Age                        0\n",
            "Employment                 0\n",
            "RemoteWork             10631\n",
            "                       ...  \n",
            "JobSatPoints_11        35992\n",
            "SurveyLength            9255\n",
            "SurveyEase              9199\n",
            "ConvertedCompYearly    42002\n",
            "JobSat                 36311\n",
            "Length: 114, dtype: int64\n"
          ]
        }
      ]
    },
    {
      "cell_type": "markdown",
      "source": [
        "<h5>2.2 Generate basic statistics for numerical columns.</h5>\n",
        "*italicized text*"
      ],
      "metadata": {
        "id": "1cALQ_u5gVsc"
      }
    },
    {
      "cell_type": "code",
      "source": [
        "# Display summary statistics for numerical columns\n",
        "print(\"Basic Statistics for Numerical Columns:\\n\")\n",
        "print(df.describe())\n"
      ],
      "metadata": {
        "colab": {
          "base_uri": "https://localhost:8080/"
        },
        "id": "dhYhYfY3gUSD",
        "outputId": "7ade50be-e5bd-42a1-958f-3e5700426f61"
      },
      "execution_count": 3,
      "outputs": [
        {
          "output_type": "stream",
          "name": "stdout",
          "text": [
            "Basic Statistics for Numerical Columns:\n",
            "\n",
            "         ResponseId      CompTotal       WorkExp  JobSatPoints_1  \\\n",
            "count  65437.000000   3.374000e+04  29658.000000    29324.000000   \n",
            "mean   32719.000000  2.963841e+145     11.466957       18.581094   \n",
            "std    18890.179119  5.444117e+147      9.168709       25.966221   \n",
            "min        1.000000   0.000000e+00      0.000000        0.000000   \n",
            "25%    16360.000000   6.000000e+04      4.000000        0.000000   \n",
            "50%    32719.000000   1.100000e+05      9.000000       10.000000   \n",
            "75%    49078.000000   2.500000e+05     16.000000       22.000000   \n",
            "max    65437.000000  1.000000e+150     50.000000      100.000000   \n",
            "\n",
            "       JobSatPoints_4  JobSatPoints_5  JobSatPoints_6  JobSatPoints_7  \\\n",
            "count    29393.000000    29411.000000    29450.000000     29448.00000   \n",
            "mean         7.522140       10.060857       24.343232        22.96522   \n",
            "std         18.422661       21.833836       27.089360        27.01774   \n",
            "min          0.000000        0.000000        0.000000         0.00000   \n",
            "25%          0.000000        0.000000        0.000000         0.00000   \n",
            "50%          0.000000        0.000000       20.000000        15.00000   \n",
            "75%          5.000000       10.000000       30.000000        30.00000   \n",
            "max        100.000000      100.000000      100.000000       100.00000   \n",
            "\n",
            "       JobSatPoints_8  JobSatPoints_9  JobSatPoints_10  JobSatPoints_11  \\\n",
            "count    29456.000000    29456.000000     29450.000000     29445.000000   \n",
            "mean        20.278165       16.169432        10.955713         9.953948   \n",
            "std         26.108110       24.845032        22.906263        21.775652   \n",
            "min          0.000000        0.000000         0.000000         0.000000   \n",
            "25%          0.000000        0.000000         0.000000         0.000000   \n",
            "50%         10.000000        5.000000         0.000000         0.000000   \n",
            "75%         25.000000       20.000000        10.000000        10.000000   \n",
            "max        100.000000      100.000000       100.000000       100.000000   \n",
            "\n",
            "       ConvertedCompYearly        JobSat  \n",
            "count         2.343500e+04  29126.000000  \n",
            "mean          8.615529e+04      6.935041  \n",
            "std           1.867570e+05      2.088259  \n",
            "min           1.000000e+00      0.000000  \n",
            "25%           3.271200e+04      6.000000  \n",
            "50%           6.500000e+04      7.000000  \n",
            "75%           1.079715e+05      8.000000  \n",
            "max           1.625660e+07     10.000000  \n"
          ]
        }
      ]
    },
    {
      "cell_type": "markdown",
      "source": [
        "### 3. Identifying and Removing Inconsistencies\n",
        "<h5>3.1 Identify inconsistent or irrelevant entries in specific columns (e.g., Country).</h5>\n"
      ],
      "metadata": {
        "id": "gwVwY3Owg1cF"
      }
    },
    {
      "cell_type": "code",
      "source": [
        "# Display unique values in the 'Country' column\n",
        "print(\"Unique values in 'Country' column:\\n\")\n",
        "print(df['Country'].unique())\n",
        "\n",
        "# Count occurrences of each unique value\n",
        "print(\"\\nValue counts for 'Country':\\n\")\n",
        "print(df['Country'].value_counts())\n",
        "\n",
        "# Identify possible inconsistencies\n",
        "# (e.g., empty values, typos, special characters)\n",
        "invalid_countries = df[~df['Country'].str.match(r'^[A-Za-z\\s-]+$', na=False)]\n",
        "\n",
        "print(\"\\nPotentially inconsistent country entries:\\n\")\n",
        "print(invalid_countries)\n"
      ],
      "metadata": {
        "colab": {
          "base_uri": "https://localhost:8080/"
        },
        "collapsed": true,
        "id": "jGEm053Tgy3h",
        "outputId": "26414f7e-2d9b-4b02-f1cc-48a58f605497"
      },
      "execution_count": 4,
      "outputs": [
        {
          "output_type": "stream",
          "name": "stdout",
          "text": [
            "Unique values in 'Country' column:\n",
            "\n",
            "['United States of America'\n",
            " 'United Kingdom of Great Britain and Northern Ireland' 'Canada' 'Norway'\n",
            " 'Uzbekistan' 'Serbia' 'Poland' 'Philippines' 'Bulgaria' 'Switzerland'\n",
            " 'India' 'Germany' 'Ireland' 'Italy' 'Ukraine' 'Australia' 'Brazil'\n",
            " 'Japan' 'Austria' 'Iran, Islamic Republic of...' 'France' 'Saudi Arabia'\n",
            " 'Romania' 'Turkey' 'Nepal' 'Algeria' 'Sweden' 'Netherlands' 'Croatia'\n",
            " 'Pakistan' 'Czech Republic' 'Republic of North Macedonia' 'Finland'\n",
            " 'Slovakia' 'Russian Federation' 'Greece' 'Israel' 'Belgium' 'Mexico'\n",
            " 'United Republic of Tanzania' 'Hungary' 'Argentina' 'Portugal'\n",
            " 'Sri Lanka' 'Latvia' 'China' 'Singapore' 'Lebanon' 'Spain' 'South Africa'\n",
            " 'Lithuania' 'Viet Nam' 'Dominican Republic' 'Indonesia' 'Kosovo'\n",
            " 'Morocco' 'Taiwan' 'Georgia' 'San Marino' 'Tunisia' 'Bangladesh'\n",
            " 'Nigeria' 'Liechtenstein' 'Denmark' 'Ecuador' 'Malaysia' 'Albania'\n",
            " 'Azerbaijan' 'Chile' 'Ghana' 'Peru' 'Bolivia' 'Egypt' 'Luxembourg'\n",
            " 'Montenegro' 'Cyprus' 'Paraguay' 'Kazakhstan' 'Slovenia' 'Jordan'\n",
            " 'Venezuela, Bolivarian Republic of...' 'Costa Rica' 'Jamaica' 'Thailand'\n",
            " 'Nicaragua' 'Myanmar' 'Republic of Korea' 'Rwanda'\n",
            " 'Bosnia and Herzegovina' 'Benin' 'El Salvador' 'Zimbabwe' 'Afghanistan'\n",
            " 'Estonia' 'Malta' 'Uruguay' 'Belarus' 'Colombia' 'Republic of Moldova'\n",
            " 'Isle of Man' 'Nomadic' 'New Zealand' 'Palestine' 'Armenia'\n",
            " 'United Arab Emirates' 'Maldives' 'Ethiopia' 'Fiji' 'Guatemala' 'Uganda'\n",
            " 'Turkmenistan' 'Mauritius' 'Kenya' 'Cuba' 'Gabon' 'Bahamas' 'South Korea'\n",
            " 'Iceland' 'Honduras' 'Hong Kong (S.A.R.)'\n",
            " \"Lao People's Democratic Republic\" 'Mongolia' 'Cambodia' 'Madagascar'\n",
            " 'Angola' 'Democratic Republic of the Congo' 'Syrian Arab Republic' 'Iraq'\n",
            " 'Namibia' 'Senegal' 'Kyrgyzstan' 'Zambia' 'Swaziland' \"Côte d'Ivoire\"\n",
            " 'Kuwait' 'Tajikistan' 'Burundi' 'Trinidad and Tobago' 'Mauritania'\n",
            " 'Sierra Leone' 'Panama' 'Somalia' 'North Korea' 'Dominica' 'Guyana'\n",
            " 'Togo' 'Oman' 'Barbados' 'Andorra'\n",
            " \"Democratic People's Republic of Korea\" 'Qatar' 'Sudan' 'Cameroon'\n",
            " 'Papua New Guinea' 'Bahrain' 'Yemen' 'Malawi' 'Burkina Faso'\n",
            " 'Congo, Republic of the...' 'Botswana' 'Guinea-Bissau' 'Mozambique'\n",
            " 'Central African Republic' 'Equatorial Guinea' 'Suriname' 'Belize'\n",
            " 'Libyan Arab Jamahiriya' 'Cape Verde' 'Brunei Darussalam' 'Bhutan'\n",
            " 'Guinea' 'Niger' 'Antigua and Barbuda' 'Mali' 'Samoa' 'Lesotho'\n",
            " 'Saint Kitts and Nevis' 'Monaco' 'Micronesia, Federated States of...'\n",
            " 'Haiti' nan 'Nauru' 'Liberia' 'Chad' 'Djibouti' 'Solomon Islands']\n",
            "\n",
            "Value counts for 'Country':\n",
            "\n",
            "Country\n",
            "United States of America                                11095\n",
            "Germany                                                  4947\n",
            "India                                                    4231\n",
            "United Kingdom of Great Britain and Northern Ireland     3224\n",
            "Ukraine                                                  2672\n",
            "                                                        ...  \n",
            "Central African Republic                                    1\n",
            "Equatorial Guinea                                           1\n",
            "Niger                                                       1\n",
            "Guinea                                                      1\n",
            "Solomon Islands                                             1\n",
            "Name: count, Length: 185, dtype: int64\n",
            "\n",
            "Potentially inconsistent country entries:\n",
            "\n",
            "       ResponseId                      MainBranch                 Age  \\\n",
            "37             38  I am a developer by profession     25-34 years old   \n",
            "65             66  I am a developer by profession     18-24 years old   \n",
            "94             95           I am learning to code  Under 18 years old   \n",
            "472           473  I am a developer by profession     25-34 years old   \n",
            "480           481  I am a developer by profession     25-34 years old   \n",
            "...           ...                             ...                 ...   \n",
            "65430       65431           I am learning to code     18-24 years old   \n",
            "65432       65433  I am a developer by profession     18-24 years old   \n",
            "65433       65434  I am a developer by profession     25-34 years old   \n",
            "65434       65435  I am a developer by profession     25-34 years old   \n",
            "65436       65437     I code primarily as a hobby     18-24 years old   \n",
            "\n",
            "                                              Employment  \\\n",
            "37                                   Employed, full-time   \n",
            "65                                    Student, full-time   \n",
            "94                                    Student, part-time   \n",
            "472                                  Employed, full-time   \n",
            "480    Independent contractor, freelancer, or self-em...   \n",
            "...                                                  ...   \n",
            "65430  Not employed, but looking for work;Employed, p...   \n",
            "65432                                Employed, full-time   \n",
            "65433                                Employed, full-time   \n",
            "65434                                Employed, full-time   \n",
            "65436                                 Student, full-time   \n",
            "\n",
            "                                 RemoteWork   Check  \\\n",
            "37                                   Remote  Apples   \n",
            "65                                      NaN  Apples   \n",
            "94                                      NaN  Apples   \n",
            "472                               In-person  Apples   \n",
            "480    Hybrid (some remote, some in-person)  Apples   \n",
            "...                                     ...     ...   \n",
            "65430                             In-person  Apples   \n",
            "65432                                Remote  Apples   \n",
            "65433                                Remote  Apples   \n",
            "65434                             In-person  Apples   \n",
            "65436                                   NaN  Apples   \n",
            "\n",
            "                                        CodingActivities  \\\n",
            "37     Contribute to open-source projects;Bootstrappi...   \n",
            "65                                                   NaN   \n",
            "94                                                   NaN   \n",
            "472                         I don’t code outside of work   \n",
            "480    Hobby;Contribute to open-source projects;Schoo...   \n",
            "...                                                  ...   \n",
            "65430  Hobby;Professional development or self-paced l...   \n",
            "65432                      Hobby;School or academic work   \n",
            "65433           Hobby;Contribute to open-source projects   \n",
            "65434                                              Hobby   \n",
            "65436                                                NaN   \n",
            "\n",
            "                                                 EdLevel  \\\n",
            "37        Professional degree (JD, MD, Ph.D, Ed.D, etc.)   \n",
            "65          Bachelor’s degree (B.A., B.S., B.Eng., etc.)   \n",
            "94     Some college/university study without earning ...   \n",
            "472      Master’s degree (M.A., M.S., M.Eng., MBA, etc.)   \n",
            "480         Bachelor’s degree (B.A., B.S., B.Eng., etc.)   \n",
            "...                                                  ...   \n",
            "65430                                                NaN   \n",
            "65432       Bachelor’s degree (B.A., B.S., B.Eng., etc.)   \n",
            "65433                                                NaN   \n",
            "65434       Bachelor’s degree (B.A., B.S., B.Eng., etc.)   \n",
            "65436                                                NaN   \n",
            "\n",
            "                                               LearnCode  \\\n",
            "37     On the job training;Online Courses or Certific...   \n",
            "65     Colleague;Other online resources (e.g., videos...   \n",
            "94     Other online resources (e.g., videos, blogs, f...   \n",
            "472    On the job training;Other online resources (e....   \n",
            "480    Colleague;On the job training;Other online res...   \n",
            "...                                                  ...   \n",
            "65430                                                NaN   \n",
            "65432  On the job training;School (i.e., University, ...   \n",
            "65433                                                NaN   \n",
            "65434  Other online resources (e.g., videos, blogs, f...   \n",
            "65436                                                NaN   \n",
            "\n",
            "                                         LearnCodeOnline  ... JobSatPoints_6  \\\n",
            "37                                                   NaN  ...            NaN   \n",
            "65     Blogs;Written Tutorials;Stack Overflow;How-to ...  ...            NaN   \n",
            "94     Technical documentation;Blogs;Written Tutorial...  ...            NaN   \n",
            "472    Technical documentation;Written Tutorials;Stac...  ...            0.0   \n",
            "480    Technical documentation;Blogs;Written Tutorial...  ...            NaN   \n",
            "...                                                  ...  ...            ...   \n",
            "65430                                                NaN  ...            NaN   \n",
            "65432                                                NaN  ...            NaN   \n",
            "65433                                                NaN  ...            NaN   \n",
            "65434  Technical documentation;Stack Overflow;Social ...  ...            NaN   \n",
            "65436                                                NaN  ...            NaN   \n",
            "\n",
            "      JobSatPoints_7 JobSatPoints_8 JobSatPoints_9 JobSatPoints_10  \\\n",
            "37               NaN            NaN            NaN             NaN   \n",
            "65               NaN            NaN            NaN             NaN   \n",
            "94               NaN            NaN            NaN             NaN   \n",
            "472              0.0            0.0            0.0             0.0   \n",
            "480              NaN            NaN            NaN             NaN   \n",
            "...              ...            ...            ...             ...   \n",
            "65430            NaN            NaN            NaN             NaN   \n",
            "65432            NaN            NaN            NaN             NaN   \n",
            "65433            NaN            NaN            NaN             NaN   \n",
            "65434            NaN            NaN            NaN             NaN   \n",
            "65436            NaN            NaN            NaN             NaN   \n",
            "\n",
            "      JobSatPoints_11           SurveyLength                  SurveyEase  \\\n",
            "37                NaN  Appropriate in length                        Easy   \n",
            "65                NaN  Appropriate in length                        Easy   \n",
            "94                NaN  Appropriate in length  Neither easy nor difficult   \n",
            "472               0.0               Too long                        Easy   \n",
            "480               NaN  Appropriate in length                        Easy   \n",
            "...               ...                    ...                         ...   \n",
            "65430             NaN                    NaN                         NaN   \n",
            "65432             NaN                    NaN                         NaN   \n",
            "65433             NaN                    NaN                         NaN   \n",
            "65434             NaN                    NaN                         NaN   \n",
            "65436             NaN                    NaN                         NaN   \n",
            "\n",
            "      ConvertedCompYearly JobSat  \n",
            "37                    NaN    NaN  \n",
            "65                    NaN    NaN  \n",
            "94                    NaN    NaN  \n",
            "472              213840.0    4.0  \n",
            "480                   NaN    NaN  \n",
            "...                   ...    ...  \n",
            "65430                 NaN    NaN  \n",
            "65432                 NaN    NaN  \n",
            "65433                 NaN    NaN  \n",
            "65434                 NaN    NaN  \n",
            "65436                 NaN    NaN  \n",
            "\n",
            "[7162 rows x 114 columns]\n"
          ]
        }
      ]
    },
    {
      "cell_type": "markdown",
      "source": [
        "**Explanation:**\n",
        "\n",
        "Check Unique Values: df['Country'].unique() helps detect typos or unexpected values.\n",
        "\n",
        "Count Occurrences: df['Country'].value_counts() shows how frequently each country appears.\n",
        "\n",
        "Identify Inconsistencies:\n",
        "The regex r'^[A-Za-z\\s-]+$' filters out values containing numbers or special characters.\n",
        "\n",
        "We flag potential errors such as:\n",
        "Misspellings (e.g., \"U.S.A.\" vs. \"USA\")\n",
        "Non-country entries (e.g., \"Unknown\" or empty values)\n",
        "Extra spaces or special characters."
      ],
      "metadata": {
        "id": "E2SpMXsEgykf"
      }
    },
    {
      "cell_type": "markdown",
      "source": [
        "<h5>3.2 Standardize entries in columns like Country or EdLevel by mapping inconsistent values to a consistent format.</h5>\n",
        "\n"
      ],
      "metadata": {
        "id": "7WKbE-DBiL12"
      }
    },
    {
      "cell_type": "code",
      "source": [
        "# Define a mapping for inconsistent country names\n",
        "country_mapping = {\n",
        "    \"U.S.A.\": \"USA\",\n",
        "    \"United States\": \"USA\",\n",
        "    \"United States of America\": \"USA\",\n",
        "    \"UK\": \"United Kingdom\",\n",
        "    \"England\": \"United Kingdom\",\n",
        "    \"Deutschland\": \"Germany\",\n",
        "    \"Czechia\": \"Czech Republic\",\n",
        "    \"Brasil\": \"Brazil\"\n",
        "}\n",
        "\n",
        "# Apply the mapping to standardize country names\n",
        "df['Country'] = df['Country'].replace(country_mapping)\n",
        "\n",
        "# Trim whitespace and ensure consistent casing\n",
        "df['Country'] = df['Country'].str.strip().str.title()\n",
        "\n",
        "print(\"Standardized 'Country' column:\\n\")\n",
        "print(df['Country'].unique())\n"
      ],
      "metadata": {
        "colab": {
          "base_uri": "https://localhost:8080/"
        },
        "collapsed": true,
        "id": "lSqbrkzjiF3t",
        "outputId": "a8185b41-bdfd-4324-b0c7-9853143ec6ed"
      },
      "execution_count": 5,
      "outputs": [
        {
          "output_type": "stream",
          "name": "stdout",
          "text": [
            "Standardized 'Country' column:\n",
            "\n",
            "['Usa' 'United Kingdom Of Great Britain And Northern Ireland' 'Canada'\n",
            " 'Norway' 'Uzbekistan' 'Serbia' 'Poland' 'Philippines' 'Bulgaria'\n",
            " 'Switzerland' 'India' 'Germany' 'Ireland' 'Italy' 'Ukraine' 'Australia'\n",
            " 'Brazil' 'Japan' 'Austria' 'Iran, Islamic Republic Of...' 'France'\n",
            " 'Saudi Arabia' 'Romania' 'Turkey' 'Nepal' 'Algeria' 'Sweden'\n",
            " 'Netherlands' 'Croatia' 'Pakistan' 'Czech Republic'\n",
            " 'Republic Of North Macedonia' 'Finland' 'Slovakia' 'Russian Federation'\n",
            " 'Greece' 'Israel' 'Belgium' 'Mexico' 'United Republic Of Tanzania'\n",
            " 'Hungary' 'Argentina' 'Portugal' 'Sri Lanka' 'Latvia' 'China' 'Singapore'\n",
            " 'Lebanon' 'Spain' 'South Africa' 'Lithuania' 'Viet Nam'\n",
            " 'Dominican Republic' 'Indonesia' 'Kosovo' 'Morocco' 'Taiwan' 'Georgia'\n",
            " 'San Marino' 'Tunisia' 'Bangladesh' 'Nigeria' 'Liechtenstein' 'Denmark'\n",
            " 'Ecuador' 'Malaysia' 'Albania' 'Azerbaijan' 'Chile' 'Ghana' 'Peru'\n",
            " 'Bolivia' 'Egypt' 'Luxembourg' 'Montenegro' 'Cyprus' 'Paraguay'\n",
            " 'Kazakhstan' 'Slovenia' 'Jordan' 'Venezuela, Bolivarian Republic Of...'\n",
            " 'Costa Rica' 'Jamaica' 'Thailand' 'Nicaragua' 'Myanmar'\n",
            " 'Republic Of Korea' 'Rwanda' 'Bosnia And Herzegovina' 'Benin'\n",
            " 'El Salvador' 'Zimbabwe' 'Afghanistan' 'Estonia' 'Malta' 'Uruguay'\n",
            " 'Belarus' 'Colombia' 'Republic Of Moldova' 'Isle Of Man' 'Nomadic'\n",
            " 'New Zealand' 'Palestine' 'Armenia' 'United Arab Emirates' 'Maldives'\n",
            " 'Ethiopia' 'Fiji' 'Guatemala' 'Uganda' 'Turkmenistan' 'Mauritius' 'Kenya'\n",
            " 'Cuba' 'Gabon' 'Bahamas' 'South Korea' 'Iceland' 'Honduras'\n",
            " 'Hong Kong (S.A.R.)' \"Lao People'S Democratic Republic\" 'Mongolia'\n",
            " 'Cambodia' 'Madagascar' 'Angola' 'Democratic Republic Of The Congo'\n",
            " 'Syrian Arab Republic' 'Iraq' 'Namibia' 'Senegal' 'Kyrgyzstan' 'Zambia'\n",
            " 'Swaziland' \"Côte D'Ivoire\" 'Kuwait' 'Tajikistan' 'Burundi'\n",
            " 'Trinidad And Tobago' 'Mauritania' 'Sierra Leone' 'Panama' 'Somalia'\n",
            " 'North Korea' 'Dominica' 'Guyana' 'Togo' 'Oman' 'Barbados' 'Andorra'\n",
            " \"Democratic People'S Republic Of Korea\" 'Qatar' 'Sudan' 'Cameroon'\n",
            " 'Papua New Guinea' 'Bahrain' 'Yemen' 'Malawi' 'Burkina Faso'\n",
            " 'Congo, Republic Of The...' 'Botswana' 'Guinea-Bissau' 'Mozambique'\n",
            " 'Central African Republic' 'Equatorial Guinea' 'Suriname' 'Belize'\n",
            " 'Libyan Arab Jamahiriya' 'Cape Verde' 'Brunei Darussalam' 'Bhutan'\n",
            " 'Guinea' 'Niger' 'Antigua And Barbuda' 'Mali' 'Samoa' 'Lesotho'\n",
            " 'Saint Kitts And Nevis' 'Monaco' 'Micronesia, Federated States Of...'\n",
            " 'Haiti' nan 'Nauru' 'Liberia' 'Chad' 'Djibouti' 'Solomon Islands']\n"
          ]
        }
      ]
    },
    {
      "cell_type": "code",
      "source": [
        "# Define a mapping for inconsistent education levels\n",
        "education_mapping = {\n",
        "    \"Bachelor’s degree\": \"Bachelor's\",\n",
        "    \"Bachelors\": \"Bachelor's\",\n",
        "    \"Master’s degree\": \"Master's\",\n",
        "    \"Masters\": \"Master's\",\n",
        "    \"PhD\": \"Doctorate\",\n",
        "    \"Some college\": \"No Degree\",\n",
        "    \"Less than a Bachelor’s\": \"No Degree\"\n",
        "}\n",
        "\n",
        "# Apply the mapping to standardize education levels\n",
        "df['EdLevel'] = df['EdLevel'].replace(education_mapping)\n",
        "\n",
        "# Trim whitespace and ensure consistent formatting\n",
        "df['EdLevel'] = df['EdLevel'].str.strip().str.title()\n",
        "\n",
        "print(\"\\nStandardized 'EdLevel' column:\\n\")\n",
        "print(df['EdLevel'].unique())\n"
      ],
      "metadata": {
        "colab": {
          "base_uri": "https://localhost:8080/"
        },
        "id": "DIUahBMkivUt",
        "outputId": "ec21ab61-b43f-4c02-d7a1-4036b90f467e"
      },
      "execution_count": 6,
      "outputs": [
        {
          "output_type": "stream",
          "name": "stdout",
          "text": [
            "\n",
            "Standardized 'EdLevel' column:\n",
            "\n",
            "['Primary/Elementary School'\n",
            " 'Bachelor’S Degree (B.A., B.S., B.Eng., Etc.)'\n",
            " 'Master’S Degree (M.A., M.S., M.Eng., Mba, Etc.)'\n",
            " 'Some College/University Study Without Earning A Degree'\n",
            " 'Secondary School (E.G. American High School, German Realschule Or Gymnasium, Etc.)'\n",
            " 'Professional Degree (Jd, Md, Ph.D, Ed.D, Etc.)'\n",
            " 'Associate Degree (A.A., A.S., Etc.)' 'Something Else' nan]\n"
          ]
        }
      ]
    },
    {
      "cell_type": "markdown",
      "source": [
        "Explanation:\n",
        "\n",
        "**Country Standardization**\n",
        "\n",
        "-Maps variations (e.g., \"United States of America\" → \"USA\").\n",
        "\n",
        "-Ensures title case (e.g., \"brasil\" → \"Brazil\").\n",
        "\n",
        "-Trims spaces to remove extra whitespace.\n",
        "\n",
        "**Education Level Standardization**\n",
        "\n",
        "-Converts different formats to a common standard (e.g., \"Bachelor’s degree\" → \"Bachelor's\").\n",
        "\n",
        "-Groups similar values (e.g., \"Some college\" → \"No Degree\")."
      ],
      "metadata": {
        "id": "auSoY09EiGgb"
      }
    },
    {
      "cell_type": "markdown",
      "source": [
        "### 4. Encoding Categorical Variables\n",
        "<h5>4.1 Encode the Employment column using one-hot encoding.</h5>\n"
      ],
      "metadata": {
        "id": "hkz84NzJjcNm"
      }
    },
    {
      "cell_type": "code",
      "source": [
        "\n",
        "# Perform one-hot encoding on the 'Employment' column\n",
        "df_encoded = pd.get_dummies(df, columns=['Employment'], prefix='Employment')\n",
        "\n",
        "# Display the first few rows to verify encoding\n",
        "print(df_encoded.head())\n"
      ],
      "metadata": {
        "colab": {
          "base_uri": "https://localhost:8080/"
        },
        "collapsed": true,
        "id": "L6FboGsTjUO_",
        "outputId": "8d663cb4-6c72-43b5-ddce-d0ac2ec6d410"
      },
      "execution_count": 7,
      "outputs": [
        {
          "output_type": "stream",
          "name": "stdout",
          "text": [
            "   ResponseId                      MainBranch                 Age RemoteWork  \\\n",
            "0           1  I am a developer by profession  Under 18 years old     Remote   \n",
            "1           2  I am a developer by profession     35-44 years old     Remote   \n",
            "2           3  I am a developer by profession     45-54 years old     Remote   \n",
            "3           4           I am learning to code     18-24 years old        NaN   \n",
            "4           5  I am a developer by profession     18-24 years old        NaN   \n",
            "\n",
            "    Check                                   CodingActivities  \\\n",
            "0  Apples                                              Hobby   \n",
            "1  Apples  Hobby;Contribute to open-source projects;Other...   \n",
            "2  Apples  Hobby;Contribute to open-source projects;Other...   \n",
            "3  Apples                                                NaN   \n",
            "4  Apples                                                NaN   \n",
            "\n",
            "                                             EdLevel  \\\n",
            "0                          Primary/Elementary School   \n",
            "1       Bachelor’S Degree (B.A., B.S., B.Eng., Etc.)   \n",
            "2    Master’S Degree (M.A., M.S., M.Eng., Mba, Etc.)   \n",
            "3  Some College/University Study Without Earning ...   \n",
            "4  Secondary School (E.G. American High School, G...   \n",
            "\n",
            "                                           LearnCode  \\\n",
            "0                             Books / Physical media   \n",
            "1  Books / Physical media;Colleague;On the job tr...   \n",
            "2  Books / Physical media;Colleague;On the job tr...   \n",
            "3  Other online resources (e.g., videos, blogs, f...   \n",
            "4  Other online resources (e.g., videos, blogs, f...   \n",
            "\n",
            "                                     LearnCodeOnline  \\\n",
            "0                                                NaN   \n",
            "1  Technical documentation;Blogs;Books;Written Tu...   \n",
            "2  Technical documentation;Blogs;Books;Written Tu...   \n",
            "3  Stack Overflow;How-to videos;Interactive tutorial   \n",
            "4  Technical documentation;Blogs;Written Tutorial...   \n",
            "\n",
            "                                             TechDoc  ...  \\\n",
            "0                                                NaN  ...   \n",
            "1  API document(s) and/or SDK document(s);User gu...  ...   \n",
            "2  API document(s) and/or SDK document(s);User gu...  ...   \n",
            "3                                                NaN  ...   \n",
            "4  API document(s) and/or SDK document(s);User gu...  ...   \n",
            "\n",
            "  Employment_Student, full-time;Not employed, but looking for work;Not employed, and not looking for work;Student, part-time  \\\n",
            "0                                              False                                                                           \n",
            "1                                              False                                                                           \n",
            "2                                              False                                                                           \n",
            "3                                              False                                                                           \n",
            "4                                              False                                                                           \n",
            "\n",
            "  Employment_Student, full-time;Not employed, but looking for work;Retired  \\\n",
            "0                                              False                         \n",
            "1                                              False                         \n",
            "2                                              False                         \n",
            "3                                              False                         \n",
            "4                                              False                         \n",
            "\n",
            "  Employment_Student, full-time;Not employed, but looking for work;Student, part-time  \\\n",
            "0                                              False                                    \n",
            "1                                              False                                    \n",
            "2                                              False                                    \n",
            "3                                              False                                    \n",
            "4                                              False                                    \n",
            "\n",
            "  Employment_Student, full-time;Retired  \\\n",
            "0                                 False   \n",
            "1                                 False   \n",
            "2                                 False   \n",
            "3                                 False   \n",
            "4                                 False   \n",
            "\n",
            "  Employment_Student, full-time;Student, part-time  \\\n",
            "0                                            False   \n",
            "1                                            False   \n",
            "2                                            False   \n",
            "3                                            False   \n",
            "4                                            False   \n",
            "\n",
            "  Employment_Student, full-time;Student, part-time;Employed, part-time  \\\n",
            "0                                              False                     \n",
            "1                                              False                     \n",
            "2                                              False                     \n",
            "3                                              False                     \n",
            "4                                              False                     \n",
            "\n",
            "  Employment_Student, full-time;Student, part-time;Retired  \\\n",
            "0                                              False         \n",
            "1                                              False         \n",
            "2                                              False         \n",
            "3                                              False         \n",
            "4                                              False         \n",
            "\n",
            "  Employment_Student, part-time  \\\n",
            "0                         False   \n",
            "1                         False   \n",
            "2                         False   \n",
            "3                         False   \n",
            "4                         False   \n",
            "\n",
            "  Employment_Student, part-time;Employed, part-time  \\\n",
            "0                                             False   \n",
            "1                                             False   \n",
            "2                                             False   \n",
            "3                                             False   \n",
            "4                                             False   \n",
            "\n",
            "  Employment_Student, part-time;Retired  \n",
            "0                                 False  \n",
            "1                                 False  \n",
            "2                                 False  \n",
            "3                                 False  \n",
            "4                                 False  \n",
            "\n",
            "[5 rows x 223 columns]\n"
          ]
        }
      ]
    },
    {
      "cell_type": "markdown",
      "source": [
        "### 5. Handling Missing Values\n",
        "<h5>5.1 Identify columns with the highest number of missing values.</h5>\n",
        "*italicized text*"
      ],
      "metadata": {
        "id": "VHjAMeBwjbbU"
      }
    },
    {
      "cell_type": "code",
      "source": [
        "# Count missing values in each column\n",
        "missing_values = df.isnull().sum()\n",
        "\n",
        "# Sort columns by the highest number of missing values\n",
        "missing_values_sorted = missing_values[missing_values > 0].sort_values(ascending=False)\n",
        "\n",
        "# Display results\n",
        "print(\"Columns with the highest number of missing values:\\n\")\n",
        "print(missing_values_sorted)\n"
      ],
      "metadata": {
        "colab": {
          "base_uri": "https://localhost:8080/"
        },
        "id": "2gVzcUf1kFNJ",
        "outputId": "4dbd6eef-2032-45ff-c2d6-7fc1774ef7c4"
      },
      "execution_count": 8,
      "outputs": [
        {
          "output_type": "stream",
          "name": "stdout",
          "text": [
            "Columns with the highest number of missing values:\n",
            "\n",
            "AINextMuch less integrated    64289\n",
            "AINextLess integrated         63082\n",
            "AINextNo change               52939\n",
            "AINextMuch more integrated    51999\n",
            "EmbeddedAdmired               48704\n",
            "                              ...  \n",
            "YearsCode                      5568\n",
            "NEWSOSites                     5151\n",
            "LearnCode                      4949\n",
            "EdLevel                        4653\n",
            "AISelect                       4530\n",
            "Length: 109, dtype: int64\n"
          ]
        }
      ]
    },
    {
      "cell_type": "markdown",
      "source": [
        "<h5>5.2 Impute missing values in numerical columns (e.g., `ConvertedCompYearly`) with the mean or median.</h5>\n",
        "*italicized text*"
      ],
      "metadata": {
        "id": "6ihjdljBjT9B"
      }
    },
    {
      "cell_type": "code",
      "source": [
        "# Check if 'ConvertedCompYearly' exists\n",
        "if 'ConvertedCompYearly' in df.columns:\n",
        "    # Calculate mean and median\n",
        "    mean_value = df['ConvertedCompYearly'].mean()\n",
        "    median_value = df['ConvertedCompYearly'].median()\n",
        "\n",
        "    # Choose imputation method (mean or median)\n",
        "    df['ConvertedCompYearly'].fillna(median_value, inplace=True)  # Using median for robustness\n",
        "\n",
        "    print(\"Missing values in 'ConvertedCompYearly' have been imputed with the median.\")\n",
        "else:\n",
        "    print(\"'ConvertedCompYearly' column not found.\")\n"
      ],
      "metadata": {
        "colab": {
          "base_uri": "https://localhost:8080/"
        },
        "collapsed": true,
        "id": "U2ciiShpkKLV",
        "outputId": "4c97984b-76ab-41b8-dab0-034b105de19c"
      },
      "execution_count": 9,
      "outputs": [
        {
          "output_type": "stream",
          "name": "stdout",
          "text": [
            "Missing values in 'ConvertedCompYearly' have been imputed with the median.\n"
          ]
        },
        {
          "output_type": "stream",
          "name": "stderr",
          "text": [
            "<ipython-input-9-3878607371a5>:8: FutureWarning: A value is trying to be set on a copy of a DataFrame or Series through chained assignment using an inplace method.\n",
            "The behavior will change in pandas 3.0. This inplace method will never work because the intermediate object on which we are setting values always behaves as a copy.\n",
            "\n",
            "For example, when doing 'df[col].method(value, inplace=True)', try using 'df.method({col: value}, inplace=True)' or df[col] = df[col].method(value) instead, to perform the operation inplace on the original object.\n",
            "\n",
            "\n",
            "  df['ConvertedCompYearly'].fillna(median_value, inplace=True)  # Using median for robustness\n"
          ]
        }
      ]
    },
    {
      "cell_type": "markdown",
      "source": [
        "<h5>5.3 Impute missing values in categorical columns (e.g., `RemoteWork`) with the most frequent value.</h5>\n",
        "\n",
        "*   List item\n",
        "*   List item\n",
        "\n"
      ],
      "metadata": {
        "id": "dRdLZ4xqkK4L"
      }
    },
    {
      "cell_type": "code",
      "source": [
        "categorical_columns = df.select_dtypes(include=['object']).columns\n",
        "\n",
        "for col in categorical_columns:\n",
        "    most_frequent = df[col].mode()[0]\n",
        "    df[col].fillna(most_frequent, inplace=True)\n",
        "    print(f\"Missing values in '{col}' have been imputed with the most frequent value: {most_frequent}\")\n"
      ],
      "metadata": {
        "colab": {
          "base_uri": "https://localhost:8080/"
        },
        "collapsed": true,
        "id": "t79uyMszk0iO",
        "outputId": "d5529734-9058-46b5-c937-91241981ca96"
      },
      "execution_count": 11,
      "outputs": [
        {
          "output_type": "stream",
          "name": "stderr",
          "text": [
            "<ipython-input-11-2fd1c0c34224>:5: FutureWarning: A value is trying to be set on a copy of a DataFrame or Series through chained assignment using an inplace method.\n",
            "The behavior will change in pandas 3.0. This inplace method will never work because the intermediate object on which we are setting values always behaves as a copy.\n",
            "\n",
            "For example, when doing 'df[col].method(value, inplace=True)', try using 'df.method({col: value}, inplace=True)' or df[col] = df[col].method(value) instead, to perform the operation inplace on the original object.\n",
            "\n",
            "\n",
            "  df[col].fillna(most_frequent, inplace=True)\n"
          ]
        },
        {
          "output_type": "stream",
          "name": "stdout",
          "text": [
            "Missing values in 'MainBranch' have been imputed with the most frequent value: I am a developer by profession\n",
            "Missing values in 'Age' have been imputed with the most frequent value: 25-34 years old\n",
            "Missing values in 'Employment' have been imputed with the most frequent value: Employed, full-time\n",
            "Missing values in 'RemoteWork' have been imputed with the most frequent value: Hybrid (some remote, some in-person)\n",
            "Missing values in 'Check' have been imputed with the most frequent value: Apples\n",
            "Missing values in 'CodingActivities' have been imputed with the most frequent value: Hobby\n",
            "Missing values in 'EdLevel' have been imputed with the most frequent value: Bachelor’S Degree (B.A., B.S., B.Eng., Etc.)\n",
            "Missing values in 'LearnCode' have been imputed with the most frequent value: Other online resources (e.g., videos, blogs, forum, online community)\n",
            "Missing values in 'LearnCodeOnline' have been imputed with the most frequent value: Technical documentation;Blogs;Written Tutorials;Stack Overflow\n",
            "Missing values in 'TechDoc' have been imputed with the most frequent value: API document(s) and/or SDK document(s);User guides or README files found in the source repository;Traditional public search engine\n",
            "Missing values in 'YearsCode' have been imputed with the most frequent value: 10\n",
            "Missing values in 'YearsCodePro' have been imputed with the most frequent value: 2\n",
            "Missing values in 'DevType' have been imputed with the most frequent value: Developer, full-stack\n",
            "Missing values in 'OrgSize' have been imputed with the most frequent value: 20 to 99 employees\n",
            "Missing values in 'PurchaseInfluence' have been imputed with the most frequent value: I have some influence\n",
            "Missing values in 'BuyNewTool' have been imputed with the most frequent value: Start a free trial;Ask developers I know/work with;Visit developer communities like Stack Overflow\n",
            "Missing values in 'BuildvsBuy' have been imputed with the most frequent value: Is ready-to-go but also customizable for growth and targeted use cases\n",
            "Missing values in 'TechEndorse' have been imputed with the most frequent value: APIs;Customization;Reputation for quality and excellence\n",
            "Missing values in 'Country' have been imputed with the most frequent value: Usa\n",
            "Missing values in 'Currency' have been imputed with the most frequent value: EUR European Euro\n",
            "Missing values in 'LanguageHaveWorkedWith' have been imputed with the most frequent value: HTML/CSS;JavaScript;TypeScript\n",
            "Missing values in 'LanguageWantToWorkWith' have been imputed with the most frequent value: Python\n",
            "Missing values in 'LanguageAdmired' have been imputed with the most frequent value: Python\n",
            "Missing values in 'DatabaseHaveWorkedWith' have been imputed with the most frequent value: PostgreSQL\n",
            "Missing values in 'DatabaseWantToWorkWith' have been imputed with the most frequent value: PostgreSQL\n",
            "Missing values in 'DatabaseAdmired' have been imputed with the most frequent value: PostgreSQL\n",
            "Missing values in 'PlatformHaveWorkedWith' have been imputed with the most frequent value: Amazon Web Services (AWS)\n",
            "Missing values in 'PlatformWantToWorkWith' have been imputed with the most frequent value: Amazon Web Services (AWS)\n",
            "Missing values in 'PlatformAdmired' have been imputed with the most frequent value: Amazon Web Services (AWS)\n",
            "Missing values in 'WebframeHaveWorkedWith' have been imputed with the most frequent value: React\n",
            "Missing values in 'WebframeWantToWorkWith' have been imputed with the most frequent value: React\n",
            "Missing values in 'WebframeAdmired' have been imputed with the most frequent value: React\n",
            "Missing values in 'EmbeddedHaveWorkedWith' have been imputed with the most frequent value: Rasberry Pi\n",
            "Missing values in 'EmbeddedWantToWorkWith' have been imputed with the most frequent value: Rasberry Pi\n",
            "Missing values in 'EmbeddedAdmired' have been imputed with the most frequent value: Rasberry Pi\n",
            "Missing values in 'MiscTechHaveWorkedWith' have been imputed with the most frequent value: .NET (5+) \n",
            "Missing values in 'MiscTechWantToWorkWith' have been imputed with the most frequent value: .NET (5+) \n",
            "Missing values in 'MiscTechAdmired' have been imputed with the most frequent value: .NET (5+) \n",
            "Missing values in 'ToolsTechHaveWorkedWith' have been imputed with the most frequent value: Docker\n",
            "Missing values in 'ToolsTechWantToWorkWith' have been imputed with the most frequent value: Docker\n",
            "Missing values in 'ToolsTechAdmired' have been imputed with the most frequent value: Docker\n",
            "Missing values in 'NEWCollabToolsHaveWorkedWith' have been imputed with the most frequent value: Visual Studio Code\n",
            "Missing values in 'NEWCollabToolsWantToWorkWith' have been imputed with the most frequent value: Visual Studio Code\n",
            "Missing values in 'NEWCollabToolsAdmired' have been imputed with the most frequent value: Visual Studio Code\n",
            "Missing values in 'OpSysPersonal use' have been imputed with the most frequent value: Windows\n",
            "Missing values in 'OpSysProfessional use' have been imputed with the most frequent value: Windows\n",
            "Missing values in 'OfficeStackAsyncHaveWorkedWith' have been imputed with the most frequent value: Jira\n",
            "Missing values in 'OfficeStackAsyncWantToWorkWith' have been imputed with the most frequent value: Jira\n",
            "Missing values in 'OfficeStackAsyncAdmired' have been imputed with the most frequent value: Jira\n",
            "Missing values in 'OfficeStackSyncHaveWorkedWith' have been imputed with the most frequent value: Microsoft Teams\n",
            "Missing values in 'OfficeStackSyncWantToWorkWith' have been imputed with the most frequent value: Microsoft Teams\n",
            "Missing values in 'OfficeStackSyncAdmired' have been imputed with the most frequent value: Microsoft Teams\n",
            "Missing values in 'AISearchDevHaveWorkedWith' have been imputed with the most frequent value: ChatGPT\n",
            "Missing values in 'AISearchDevWantToWorkWith' have been imputed with the most frequent value: ChatGPT\n",
            "Missing values in 'AISearchDevAdmired' have been imputed with the most frequent value: ChatGPT\n",
            "Missing values in 'NEWSOSites' have been imputed with the most frequent value: Stack Overflow;Stack Exchange\n",
            "Missing values in 'SOVisitFreq' have been imputed with the most frequent value: A few times per week\n",
            "Missing values in 'SOAccount' have been imputed with the most frequent value: Yes\n",
            "Missing values in 'SOPartFreq' have been imputed with the most frequent value: Less than once per month or monthly\n",
            "Missing values in 'SOHow' have been imputed with the most frequent value: Quickly finding code solutions;Finding reliable guidance from community-vetted answers\n",
            "Missing values in 'SOComm' have been imputed with the most frequent value: No, not really\n",
            "Missing values in 'AISelect' have been imputed with the most frequent value: Yes\n",
            "Missing values in 'AISent' have been imputed with the most frequent value: Favorable\n",
            "Missing values in 'AIBen' have been imputed with the most frequent value: Increase productivity;Greater efficiency;Speed up learning\n",
            "Missing values in 'AIAcc' have been imputed with the most frequent value: Somewhat trust\n",
            "Missing values in 'AIComplex' have been imputed with the most frequent value: Good, but not great at handling complex tasks\n",
            "Missing values in 'AIToolCurrently Using' have been imputed with the most frequent value: Writing code;Debugging and getting help;Search for answers\n",
            "Missing values in 'AIToolInterested in Using' have been imputed with the most frequent value: Learning about a codebase\n",
            "Missing values in 'AIToolNot interested in Using' have been imputed with the most frequent value: Project planning\n",
            "Missing values in 'AINextMuch more integrated' have been imputed with the most frequent value: Search for answers\n",
            "Missing values in 'AINextNo change' have been imputed with the most frequent value: Writing code\n",
            "Missing values in 'AINextMore integrated' have been imputed with the most frequent value: Writing code\n",
            "Missing values in 'AINextLess integrated' have been imputed with the most frequent value: Writing code\n",
            "Missing values in 'AINextMuch less integrated' have been imputed with the most frequent value: Writing code\n",
            "Missing values in 'AIThreat' have been imputed with the most frequent value: No\n",
            "Missing values in 'AIEthics' have been imputed with the most frequent value: Circulating misinformation or disinformation;Missing or incorrect attribution for sources of data;Biased results that do not represent diverse viewpoints\n",
            "Missing values in 'AIChallenges' have been imputed with the most frequent value: Don’t trust the output or answers;AI tools lack context of codebase,  internal architecture, and/or company knowledge\n",
            "Missing values in 'TBranch' have been imputed with the most frequent value: Yes\n",
            "Missing values in 'ICorPM' have been imputed with the most frequent value: Individual contributor\n",
            "Missing values in 'Knowledge_1' have been imputed with the most frequent value: Agree\n",
            "Missing values in 'Knowledge_2' have been imputed with the most frequent value: Agree\n",
            "Missing values in 'Knowledge_3' have been imputed with the most frequent value: Agree\n",
            "Missing values in 'Knowledge_4' have been imputed with the most frequent value: Agree\n",
            "Missing values in 'Knowledge_5' have been imputed with the most frequent value: Agree\n",
            "Missing values in 'Knowledge_6' have been imputed with the most frequent value: Agree\n",
            "Missing values in 'Knowledge_7' have been imputed with the most frequent value: Agree\n",
            "Missing values in 'Knowledge_8' have been imputed with the most frequent value: Agree\n",
            "Missing values in 'Knowledge_9' have been imputed with the most frequent value: Agree\n",
            "Missing values in 'Frequency_1' have been imputed with the most frequent value: 1-2 times a week\n",
            "Missing values in 'Frequency_2' have been imputed with the most frequent value: 1-2 times a week\n",
            "Missing values in 'Frequency_3' have been imputed with the most frequent value: 1-2 times a week\n",
            "Missing values in 'TimeSearching' have been imputed with the most frequent value: 30-60 minutes a day\n",
            "Missing values in 'TimeAnswering' have been imputed with the most frequent value: 15-30 minutes a day\n",
            "Missing values in 'Frustration' have been imputed with the most frequent value: None of these\n",
            "Missing values in 'ProfessionalTech' have been imputed with the most frequent value: None of these\n",
            "Missing values in 'ProfessionalCloud' have been imputed with the most frequent value: Hybrid (on-prem and cloud)\n",
            "Missing values in 'ProfessionalQuestion' have been imputed with the most frequent value: Traditional public search engine\n",
            "Missing values in 'Industry' have been imputed with the most frequent value: Software Development\n",
            "Missing values in 'SurveyLength' have been imputed with the most frequent value: Appropriate in length\n",
            "Missing values in 'SurveyEase' have been imputed with the most frequent value: Easy\n"
          ]
        }
      ]
    },
    {
      "cell_type": "markdown",
      "source": [
        "### 6. Feature Scaling and Transformation\n",
        "<h5>6.1 Apply Min-Max Scaling to normalize the `ConvertedCompYearly` column.</h5>\n"
      ],
      "metadata": {
        "id": "IFFUzWKzlZjq"
      }
    },
    {
      "cell_type": "code",
      "source": [
        "from sklearn.preprocessing import MinMaxScaler\n",
        "\n",
        "# Check if 'ConvertedCompYearly' exists\n",
        "if 'ConvertedCompYearly' in df.columns:\n",
        "    scaler = MinMaxScaler()  # Initialize Min-Max Scaler\n",
        "\n",
        "    # Reshape the data since MinMaxScaler expects a 2D array\n",
        "    df['ConvertedCompYearly_MinMax'] = scaler.fit_transform(df[['ConvertedCompYearly']])\n",
        "\n",
        "    print(\"Min-Max Scaling applied to 'ConvertedCompYearly'.\")\n",
        "else:\n",
        "    print(\"'ConvertedCompYearly' column not found.\")\n"
      ],
      "metadata": {
        "colab": {
          "base_uri": "https://localhost:8080/"
        },
        "id": "EDW--D3Zlfgq",
        "outputId": "9db6563a-8617-4ffb-c9e9-94d787b55046"
      },
      "execution_count": 12,
      "outputs": [
        {
          "output_type": "stream",
          "name": "stdout",
          "text": [
            "Min-Max Scaling applied to 'ConvertedCompYearly'.\n"
          ]
        }
      ]
    },
    {
      "cell_type": "markdown",
      "source": [
        "<h5>6.2 Log-transform the ConvertedCompYearly column to reduce skewness.</h5>\n"
      ],
      "metadata": {
        "id": "PslEw-qQlvP8"
      }
    },
    {
      "cell_type": "code",
      "source": [
        "import numpy as np\n",
        "\n",
        "# Check if 'ConvertedCompYearly' exists\n",
        "if 'ConvertedCompYearly' in df.columns:\n",
        "    # Apply log transformation (adding 1 to avoid log(0) errors)\n",
        "    df['ConvertedCompYearly_Log'] = np.log1p(df['ConvertedCompYearly'])\n",
        "\n",
        "    print(\"Log transformation applied to 'ConvertedCompYearly'.\")\n",
        "else:\n",
        "    print(\"'ConvertedCompYearly' column not found.\")\n"
      ],
      "metadata": {
        "id": "dFCWwz7iltgM"
      },
      "execution_count": null,
      "outputs": []
    },
    {
      "cell_type": "markdown",
      "source": [
        "### 7. Feature Engineering\n",
        "<h5>7.1 Create a new column `ExperienceLevel` based on the `YearsCodePro` column:</h5>\n"
      ],
      "metadata": {
        "id": "pNL1AWT0ltN4"
      }
    },
    {
      "cell_type": "code",
      "source": [
        "# Check if 'YearsCodePro' exists in the dataset\n",
        "if 'YearsCodePro' in df.columns:\n",
        "    # Define function to categorize experience level\n",
        "    def categorize_experience(years):\n",
        "        if years < 2:\n",
        "            return 'Entry'\n",
        "        elif 2 <= years < 5:\n",
        "            return 'Mid'\n",
        "        elif 5 <= years < 10:\n",
        "            return 'Senior'\n",
        "        else:\n",
        "            return 'Expert'\n",
        "\n",
        "    # Apply the function to the 'YearsCodePro' column to create the new 'ExperienceLevel' column\n",
        "    df['ExperienceLevel'] = df['YearsCodePro'].apply(categorize_experience)\n",
        "\n",
        "    print(\"ExperienceLevel column created based on 'YearsCodePro'.\")\n",
        "else:\n",
        "    print(\"'YearsCodePro' column not found.\")\n"
      ],
      "metadata": {
        "colab": {
          "base_uri": "https://localhost:8080/",
          "height": 391
        },
        "id": "c1jhx0JFmEZ3",
        "outputId": "9e486b08-90c6-4e7e-c0ee-fca560a909d7"
      },
      "execution_count": 13,
      "outputs": [
        {
          "output_type": "error",
          "ename": "TypeError",
          "evalue": "'<' not supported between instances of 'str' and 'int'",
          "traceback": [
            "\u001b[0;31m---------------------------------------------------------------------------\u001b[0m",
            "\u001b[0;31mTypeError\u001b[0m                                 Traceback (most recent call last)",
            "\u001b[0;32m<ipython-input-13-9a46d4baacc7>\u001b[0m in \u001b[0;36m<cell line: 0>\u001b[0;34m()\u001b[0m\n\u001b[1;32m     13\u001b[0m \u001b[0;34m\u001b[0m\u001b[0m\n\u001b[1;32m     14\u001b[0m     \u001b[0;31m# Apply the function to the 'YearsCodePro' column to create the new 'ExperienceLevel' column\u001b[0m\u001b[0;34m\u001b[0m\u001b[0;34m\u001b[0m\u001b[0m\n\u001b[0;32m---> 15\u001b[0;31m     \u001b[0mdf\u001b[0m\u001b[0;34m[\u001b[0m\u001b[0;34m'ExperienceLevel'\u001b[0m\u001b[0;34m]\u001b[0m \u001b[0;34m=\u001b[0m \u001b[0mdf\u001b[0m\u001b[0;34m[\u001b[0m\u001b[0;34m'YearsCodePro'\u001b[0m\u001b[0;34m]\u001b[0m\u001b[0;34m.\u001b[0m\u001b[0mapply\u001b[0m\u001b[0;34m(\u001b[0m\u001b[0mcategorize_experience\u001b[0m\u001b[0;34m)\u001b[0m\u001b[0;34m\u001b[0m\u001b[0;34m\u001b[0m\u001b[0m\n\u001b[0m\u001b[1;32m     16\u001b[0m \u001b[0;34m\u001b[0m\u001b[0m\n\u001b[1;32m     17\u001b[0m     \u001b[0mprint\u001b[0m\u001b[0;34m(\u001b[0m\u001b[0;34m\"ExperienceLevel column created based on 'YearsCodePro'.\"\u001b[0m\u001b[0;34m)\u001b[0m\u001b[0;34m\u001b[0m\u001b[0;34m\u001b[0m\u001b[0m\n",
            "\u001b[0;32m/usr/local/lib/python3.11/dist-packages/pandas/core/series.py\u001b[0m in \u001b[0;36mapply\u001b[0;34m(self, func, convert_dtype, args, by_row, **kwargs)\u001b[0m\n\u001b[1;32m   4922\u001b[0m             \u001b[0margs\u001b[0m\u001b[0;34m=\u001b[0m\u001b[0margs\u001b[0m\u001b[0;34m,\u001b[0m\u001b[0;34m\u001b[0m\u001b[0;34m\u001b[0m\u001b[0m\n\u001b[1;32m   4923\u001b[0m             \u001b[0mkwargs\u001b[0m\u001b[0;34m=\u001b[0m\u001b[0mkwargs\u001b[0m\u001b[0;34m,\u001b[0m\u001b[0;34m\u001b[0m\u001b[0;34m\u001b[0m\u001b[0m\n\u001b[0;32m-> 4924\u001b[0;31m         ).apply()\n\u001b[0m\u001b[1;32m   4925\u001b[0m \u001b[0;34m\u001b[0m\u001b[0m\n\u001b[1;32m   4926\u001b[0m     def _reindex_indexer(\n",
            "\u001b[0;32m/usr/local/lib/python3.11/dist-packages/pandas/core/apply.py\u001b[0m in \u001b[0;36mapply\u001b[0;34m(self)\u001b[0m\n\u001b[1;32m   1425\u001b[0m \u001b[0;34m\u001b[0m\u001b[0m\n\u001b[1;32m   1426\u001b[0m         \u001b[0;31m# self.func is Callable\u001b[0m\u001b[0;34m\u001b[0m\u001b[0;34m\u001b[0m\u001b[0m\n\u001b[0;32m-> 1427\u001b[0;31m         \u001b[0;32mreturn\u001b[0m \u001b[0mself\u001b[0m\u001b[0;34m.\u001b[0m\u001b[0mapply_standard\u001b[0m\u001b[0;34m(\u001b[0m\u001b[0;34m)\u001b[0m\u001b[0;34m\u001b[0m\u001b[0;34m\u001b[0m\u001b[0m\n\u001b[0m\u001b[1;32m   1428\u001b[0m \u001b[0;34m\u001b[0m\u001b[0m\n\u001b[1;32m   1429\u001b[0m     \u001b[0;32mdef\u001b[0m \u001b[0magg\u001b[0m\u001b[0;34m(\u001b[0m\u001b[0mself\u001b[0m\u001b[0;34m)\u001b[0m\u001b[0;34m:\u001b[0m\u001b[0;34m\u001b[0m\u001b[0;34m\u001b[0m\u001b[0m\n",
            "\u001b[0;32m/usr/local/lib/python3.11/dist-packages/pandas/core/apply.py\u001b[0m in \u001b[0;36mapply_standard\u001b[0;34m(self)\u001b[0m\n\u001b[1;32m   1505\u001b[0m         \u001b[0;31m#  Categorical (GH51645).\u001b[0m\u001b[0;34m\u001b[0m\u001b[0;34m\u001b[0m\u001b[0m\n\u001b[1;32m   1506\u001b[0m         \u001b[0maction\u001b[0m \u001b[0;34m=\u001b[0m \u001b[0;34m\"ignore\"\u001b[0m \u001b[0;32mif\u001b[0m \u001b[0misinstance\u001b[0m\u001b[0;34m(\u001b[0m\u001b[0mobj\u001b[0m\u001b[0;34m.\u001b[0m\u001b[0mdtype\u001b[0m\u001b[0;34m,\u001b[0m \u001b[0mCategoricalDtype\u001b[0m\u001b[0;34m)\u001b[0m \u001b[0;32melse\u001b[0m \u001b[0;32mNone\u001b[0m\u001b[0;34m\u001b[0m\u001b[0;34m\u001b[0m\u001b[0m\n\u001b[0;32m-> 1507\u001b[0;31m         mapped = obj._map_values(\n\u001b[0m\u001b[1;32m   1508\u001b[0m             \u001b[0mmapper\u001b[0m\u001b[0;34m=\u001b[0m\u001b[0mcurried\u001b[0m\u001b[0;34m,\u001b[0m \u001b[0mna_action\u001b[0m\u001b[0;34m=\u001b[0m\u001b[0maction\u001b[0m\u001b[0;34m,\u001b[0m \u001b[0mconvert\u001b[0m\u001b[0;34m=\u001b[0m\u001b[0mself\u001b[0m\u001b[0;34m.\u001b[0m\u001b[0mconvert_dtype\u001b[0m\u001b[0;34m\u001b[0m\u001b[0;34m\u001b[0m\u001b[0m\n\u001b[1;32m   1509\u001b[0m         )\n",
            "\u001b[0;32m/usr/local/lib/python3.11/dist-packages/pandas/core/base.py\u001b[0m in \u001b[0;36m_map_values\u001b[0;34m(self, mapper, na_action, convert)\u001b[0m\n\u001b[1;32m    919\u001b[0m             \u001b[0;32mreturn\u001b[0m \u001b[0marr\u001b[0m\u001b[0;34m.\u001b[0m\u001b[0mmap\u001b[0m\u001b[0;34m(\u001b[0m\u001b[0mmapper\u001b[0m\u001b[0;34m,\u001b[0m \u001b[0mna_action\u001b[0m\u001b[0;34m=\u001b[0m\u001b[0mna_action\u001b[0m\u001b[0;34m)\u001b[0m\u001b[0;34m\u001b[0m\u001b[0;34m\u001b[0m\u001b[0m\n\u001b[1;32m    920\u001b[0m \u001b[0;34m\u001b[0m\u001b[0m\n\u001b[0;32m--> 921\u001b[0;31m         \u001b[0;32mreturn\u001b[0m \u001b[0malgorithms\u001b[0m\u001b[0;34m.\u001b[0m\u001b[0mmap_array\u001b[0m\u001b[0;34m(\u001b[0m\u001b[0marr\u001b[0m\u001b[0;34m,\u001b[0m \u001b[0mmapper\u001b[0m\u001b[0;34m,\u001b[0m \u001b[0mna_action\u001b[0m\u001b[0;34m=\u001b[0m\u001b[0mna_action\u001b[0m\u001b[0;34m,\u001b[0m \u001b[0mconvert\u001b[0m\u001b[0;34m=\u001b[0m\u001b[0mconvert\u001b[0m\u001b[0;34m)\u001b[0m\u001b[0;34m\u001b[0m\u001b[0;34m\u001b[0m\u001b[0m\n\u001b[0m\u001b[1;32m    922\u001b[0m \u001b[0;34m\u001b[0m\u001b[0m\n\u001b[1;32m    923\u001b[0m     \u001b[0;34m@\u001b[0m\u001b[0mfinal\u001b[0m\u001b[0;34m\u001b[0m\u001b[0;34m\u001b[0m\u001b[0m\n",
            "\u001b[0;32m/usr/local/lib/python3.11/dist-packages/pandas/core/algorithms.py\u001b[0m in \u001b[0;36mmap_array\u001b[0;34m(arr, mapper, na_action, convert)\u001b[0m\n\u001b[1;32m   1741\u001b[0m     \u001b[0mvalues\u001b[0m \u001b[0;34m=\u001b[0m \u001b[0marr\u001b[0m\u001b[0;34m.\u001b[0m\u001b[0mastype\u001b[0m\u001b[0;34m(\u001b[0m\u001b[0mobject\u001b[0m\u001b[0;34m,\u001b[0m \u001b[0mcopy\u001b[0m\u001b[0;34m=\u001b[0m\u001b[0;32mFalse\u001b[0m\u001b[0;34m)\u001b[0m\u001b[0;34m\u001b[0m\u001b[0;34m\u001b[0m\u001b[0m\n\u001b[1;32m   1742\u001b[0m     \u001b[0;32mif\u001b[0m \u001b[0mna_action\u001b[0m \u001b[0;32mis\u001b[0m \u001b[0;32mNone\u001b[0m\u001b[0;34m:\u001b[0m\u001b[0;34m\u001b[0m\u001b[0;34m\u001b[0m\u001b[0m\n\u001b[0;32m-> 1743\u001b[0;31m         \u001b[0;32mreturn\u001b[0m \u001b[0mlib\u001b[0m\u001b[0;34m.\u001b[0m\u001b[0mmap_infer\u001b[0m\u001b[0;34m(\u001b[0m\u001b[0mvalues\u001b[0m\u001b[0;34m,\u001b[0m \u001b[0mmapper\u001b[0m\u001b[0;34m,\u001b[0m \u001b[0mconvert\u001b[0m\u001b[0;34m=\u001b[0m\u001b[0mconvert\u001b[0m\u001b[0;34m)\u001b[0m\u001b[0;34m\u001b[0m\u001b[0;34m\u001b[0m\u001b[0m\n\u001b[0m\u001b[1;32m   1744\u001b[0m     \u001b[0;32melse\u001b[0m\u001b[0;34m:\u001b[0m\u001b[0;34m\u001b[0m\u001b[0;34m\u001b[0m\u001b[0m\n\u001b[1;32m   1745\u001b[0m         return lib.map_infer_mask(\n",
            "\u001b[0;32mlib.pyx\u001b[0m in \u001b[0;36mpandas._libs.lib.map_infer\u001b[0;34m()\u001b[0m\n",
            "\u001b[0;32m<ipython-input-13-9a46d4baacc7>\u001b[0m in \u001b[0;36mcategorize_experience\u001b[0;34m(years)\u001b[0m\n\u001b[1;32m      3\u001b[0m     \u001b[0;31m# Define function to categorize experience level\u001b[0m\u001b[0;34m\u001b[0m\u001b[0;34m\u001b[0m\u001b[0m\n\u001b[1;32m      4\u001b[0m     \u001b[0;32mdef\u001b[0m \u001b[0mcategorize_experience\u001b[0m\u001b[0;34m(\u001b[0m\u001b[0myears\u001b[0m\u001b[0;34m)\u001b[0m\u001b[0;34m:\u001b[0m\u001b[0;34m\u001b[0m\u001b[0;34m\u001b[0m\u001b[0m\n\u001b[0;32m----> 5\u001b[0;31m         \u001b[0;32mif\u001b[0m \u001b[0myears\u001b[0m \u001b[0;34m<\u001b[0m \u001b[0;36m2\u001b[0m\u001b[0;34m:\u001b[0m\u001b[0;34m\u001b[0m\u001b[0;34m\u001b[0m\u001b[0m\n\u001b[0m\u001b[1;32m      6\u001b[0m             \u001b[0;32mreturn\u001b[0m \u001b[0;34m'Entry'\u001b[0m\u001b[0;34m\u001b[0m\u001b[0;34m\u001b[0m\u001b[0m\n\u001b[1;32m      7\u001b[0m         \u001b[0;32melif\u001b[0m \u001b[0;36m2\u001b[0m \u001b[0;34m<=\u001b[0m \u001b[0myears\u001b[0m \u001b[0;34m<\u001b[0m \u001b[0;36m5\u001b[0m\u001b[0;34m:\u001b[0m\u001b[0;34m\u001b[0m\u001b[0;34m\u001b[0m\u001b[0m\n",
            "\u001b[0;31mTypeError\u001b[0m: '<' not supported between instances of 'str' and 'int'"
          ]
        }
      ]
    }
  ]
}