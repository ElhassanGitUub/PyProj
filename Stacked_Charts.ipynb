{
  "nbformat": 4,
  "nbformat_minor": 0,
  "metadata": {
    "colab": {
      "provenance": [],
      "authorship_tag": "ABX9TyN2ZU8PwfI3poiNJoyIyGzs",
      "include_colab_link": true
    },
    "kernelspec": {
      "name": "python3",
      "display_name": "Python 3"
    },
    "language_info": {
      "name": "python"
    }
  },
  "cells": [
    {
      "cell_type": "markdown",
      "metadata": {
        "id": "view-in-github",
        "colab_type": "text"
      },
      "source": [
        "<a href=\"https://colab.research.google.com/github/ElhassanGitUub/PyProj/blob/main/Stacked_Charts.ipynb\" target=\"_parent\"><img src=\"https://colab.research.google.com/assets/colab-badge.svg\" alt=\"Open In Colab\"/></a>"
      ]
    },
    {
      "cell_type": "markdown",
      "source": [
        "### Stacked Charts\n",
        "Stacked Chart of Median JobSatPoints_6 and JobSatPoints_7 for Different Age Groups\n",
        "\n",
        "1- Visualize the composition of job satisfaction scores (JobSatPoints_6 and JobSatPoints_7) across various age groups. This will help in understanding the breakdown of satisfaction levels across different demographics.\n",
        "\n",
        "\n",
        "2- Stacked Chart of JobSatPoints_6 and JobSatPoints_7 for Employment Status\n",
        "Create a stacked chart to compare job satisfaction (JobSatPoints_6 and JobSatPoints_7) across different employment statuses. This will show how satisfaction varies by employment type.\n",
        "\n"
      ],
      "metadata": {
        "id": "JwpYtOEaYEHx"
      }
    },
    {
      "cell_type": "code",
      "execution_count": null,
      "metadata": {
        "id": "bx5x_S1kX_I8"
      },
      "outputs": [],
      "source": [
        "!wget https://cf-courses-data.s3.us.cloud-object-storage.appdomain.cloud/QR9YeprUYhOoLafzlLspAw/survey-results-public.sqlite\n",
        "import sqlite3\n",
        "import pandas as pd\n",
        "import matplotlib.pyplot as plt\n",
        "\n",
        "# Connexion à la base SQLite\n",
        "conn = sqlite3.connect('survey-results-public.sqlite')\n",
        "\n",
        "# Charger les données\n",
        "QUERY = \"SELECT * FROM main\"\n",
        "df = pd.read_sql_query(QUERY, conn)\n",
        "\n",
        "# Vérifier la présence des colonnes nécessaires\n",
        "required_columns = {'Age', 'JobSatPoints_6', 'JobSatPoints_7', 'Employment'}\n",
        "if not required_columns.issubset(df.columns):\n",
        "    print(f\"Certaines colonnes manquent : {required_columns - set(df.columns)}\")\n",
        "else:\n",
        "    ### 1. Stacked Chart de JobSatPoints par groupes d'âge ###\n",
        "\n",
        "    # Convertir Age en numérique et créer des groupes d'âge\n",
        "    df['Age'] = pd.to_numeric(df['Age'], errors='coerce')\n",
        "    bins = [18, 25, 35, 45, 55, 65, 100]\n",
        "    labels = ['18-24', '25-34', '35-44', '45-54', '55-64', '65+']\n",
        "    df['AgeGroup'] = pd.cut(df['Age'], bins=bins, labels=labels, right=False)\n",
        "\n",
        "    # Calculer la médiane de JobSatPoints_6 et JobSatPoints_7 par groupe d'âge\n",
        "    age_satisfaction = df.groupby('AgeGroup')[['JobSatPoints_6', 'JobSatPoints_7']].median().dropna()\n",
        "\n",
        "    # Tracer le graphique empilé\n",
        "    age_satisfaction.plot(kind='bar', stacked=True, figsize=(10, 6), colormap='viridis')\n",
        "    plt.title('Stacked Chart of Job Satisfaction Scores by Age Group')\n",
        "    plt.xlabel('Age Group')\n",
        "    plt.ylabel('Median Job Satisfaction Score')\n",
        "    plt.legend(title='Job Satisfaction Metrics')\n",
        "    plt.xticks(rotation=0)\n",
        "    plt.grid(axis='y', linestyle='--', alpha=0.7)\n",
        "    plt.show()\n",
        "\n",
        "    ### 2. Stacked Chart de JobSatPoints par statut d'emploi ###\n",
        "\n",
        "    # Filtrer les données et calculer la médiane par statut d'emploi\n",
        "    employment_satisfaction = df.groupby('Employment')[['JobSatPoints_6', 'JobSatPoints_7']].median().dropna()\n",
        "\n",
        "    # Tracer le graphique empilé\n",
        "    employment_satisfaction.plot(kind='bar', stacked=True, figsize=(10, 6), colormap='plasma')\n",
        "    plt.title('Stacked Chart of Job Satisfaction Scores by Employment Status')\n",
        "    plt.xlabel('Employment Status')\n",
        "    plt.ylabel('Median Job Satisfaction Score')\n",
        "    plt.legend(title='Job Satisfaction Metrics')\n",
        "    plt.xticks(rotation=45, ha='right')\n",
        "    plt.grid(axis='y', linestyle='--', alpha=0.7)\n",
        "    plt.show()\n",
        "\n",
        "# Fermer la connexion\n",
        "conn.close()\n"
      ]
    },
    {
      "cell_type": "markdown",
      "source": [
        "### Task 3: Comparing Data Using Stacked Charts\n",
        "\n",
        "1. Stacked Chart of Preferred Databases by Age Group\n",
        "Visualize the top databases that respondents from different age groups wish to learn. Create a stacked chart to show the proportion of each database in each age group.\n",
        "\n",
        "2. Stacked Chart of Employment Type by Job Satisfaction\n",
        "Analyze the distribution of employment types within each job satisfaction level using a stacked chart. This will provide insights into how employment types are distributed across various satisfaction ratings."
      ],
      "metadata": {
        "id": "uukFadbSYDBu"
      }
    },
    {
      "cell_type": "code",
      "source": [
        "!wget https://cf-courses-data.s3.us.cloud-object-storage.appdomain.cloud/QR9YeprUYhOoLafzlLspAw/survey-results-public.sqlite\n",
        "import sqlite3\n",
        "import pandas as pd\n",
        "import matplotlib.pyplot as plt\n",
        "\n",
        "# Connexion à la base SQLite\n",
        "conn = sqlite3.connect('survey-results-public.sqlite')\n",
        "\n",
        "# Charger les données\n",
        "QUERY = \"SELECT * FROM main\"\n",
        "df = pd.read_sql_query(QUERY, conn)\n",
        "\n",
        "# Charger les données (Assurez-vous que df contient 'Age' et 'DatabaseWantToWorkWith')\n",
        "# df = pd.read_csv('survey-data.csv')\n",
        "\n",
        "# 1. Stacked Chart of Preferred Databases by Age Group\n",
        "\n",
        "# Définition des groupes d'âge\n",
        "df['Age'] = pd.to_numeric(df['Age'], errors='coerce')\n",
        "bins = [18, 25, 35, 45, 55, 65, 100]\n",
        "labels = ['18-24', '25-34', '35-44', '45-54', '55-64', '65+']\n",
        "df['AgeGroup'] = pd.cut(df['Age'], bins=bins, labels=labels, right=False)\n",
        "\n",
        "# Séparer et compter les bases de données préférées par groupe d'âge\n",
        "df_exploded = df[['AgeGroup', 'DatabaseWantToWorkWith']].dropna()\n",
        "df_exploded = df_exploded.assign(Database=df_exploded['DatabaseWantToWorkWith'].str.split(';')).explode('Database')\n",
        "\n",
        "# Sélectionner les 5 bases de données les plus populaires\n",
        "top_databases = df_exploded['Database'].value_counts().nlargest(5).index\n",
        "df_filtered = df_exploded[df_exploded['Database'].isin(top_databases)]\n",
        "\n",
        "# Créer un tableau croisé dynamique\n",
        "pivot_table = df_filtered.pivot_table(index='AgeGroup', columns='Database', aggfunc='size', fill_value=0)\n",
        "\n",
        "# Tracer le graphique empilé\n",
        "pivot_table.plot(kind='bar', stacked=True, figsize=(10, 6), colormap='tab10')\n",
        "plt.title(\"Stacked Chart des Bases de Données Préférées par Groupe d’Âge\")\n",
        "plt.xlabel(\"Groupe d'Âge\")\n",
        "plt.ylabel(\"Nombre de Répondants\")\n",
        "plt.legend(title=\"Base de Données\", bbox_to_anchor=(1.05, 1), loc='upper left')\n",
        "plt.xticks(rotation=0)\n",
        "plt.grid(axis='y', linestyle='--', alpha=0.7)\n",
        "plt.show()\n"
      ],
      "metadata": {
        "id": "i9YokuA5dhuM"
      },
      "execution_count": null,
      "outputs": []
    },
    {
      "cell_type": "markdown",
      "source": [
        "### Task 4: Exploring Technology Preferences Using Stacked Charts\n",
        "1. Stacked Chart for Preferred Programming Languages by Age Group\n",
        "Analyze how programming language preferences (LanguageAdmired) vary across age groups.\n",
        "\n",
        "\n",
        "2. Stacked Chart for Technology Adoption by Employment Type\n",
        "Explore how admired platforms (PlatformAdmired) differ across employment types (e.g., full-time, freelance)\n",
        "\n"
      ],
      "metadata": {
        "id": "hTXZamR4eeU3"
      }
    },
    {
      "cell_type": "code",
      "source": [
        "import pandas as pd\n",
        "import matplotlib.pyplot as plt\n",
        "\n",
        "# Charger les données (Assurez-vous que df contient 'Age' et 'LanguageAdmired')\n",
        "# df = pd.read_csv('survey-data.csv')\n",
        "\n",
        "# Définition des groupes d'âge\n",
        "bins = [18, 25, 35, 45, 55, 65, 100]\n",
        "labels = ['18-24', '25-34', '35-44', '45-54', '55-64', '65+']\n",
        "df['AgeGroup'] = pd.cut(df['Age'], bins=bins, labels=labels, right=False)\n",
        "\n",
        "# Séparer et compter les langages de programmation préférés par groupe d'âge\n",
        "df_exploded = df[['AgeGroup', 'LanguageAdmired']].dropna()\n",
        "df_exploded = df_exploded.assign(Language=df_exploded['LanguageAdmired'].str.split(';')).explode('Language')\n",
        "\n",
        "# Sélectionner les 5 langages les plus populaires\n",
        "top_languages = df_exploded['Language'].value_counts().nlargest(5).index\n",
        "df_filtered = df_exploded[df_exploded['Language'].isin(top_languages)]\n",
        "\n",
        "# Créer un tableau croisé dynamique\n",
        "pivot_table = df_filtered.pivot_table(index='AgeGroup', columns='Language', aggfunc='size', fill_value=0)\n",
        "\n",
        "# Tracer le graphique empilé\n",
        "pivot_table.plot(kind='bar', stacked=True, figsize=(10, 6), colormap='tab10')\n",
        "plt.title(\"Stacked Chart des Langages de Programmation Préférés par Groupe d’Âge\")\n",
        "plt.xlabel(\"Groupe d'Âge\")\n",
        "plt.ylabel(\"Nombre de Répondants\")\n",
        "plt.legend(title=\"Langage\", bbox_to_anchor=(1.05, 1), loc='upper left')\n",
        "plt.xticks(rotation=0)\n",
        "plt.grid(axis='y', linestyle='--', alpha=0.7)\n",
        "plt.show()\n",
        "\n",
        "# Charger les données (Assurez-vous que df contient 'Employment' et 'PlatformAdmired')\n",
        "\n",
        "# Supprimer les valeurs manquantes\n",
        "df_filtered = df[['Employment', 'PlatformAdmired']].dropna()\n",
        "\n",
        "# Séparer et compter les plateformes admirées par type d'emploi\n",
        "df_exploded = df_filtered.assign(Platform=df_filtered['PlatformAdmired'].str.split(';')).explode('Platform')\n",
        "\n",
        "# Sélectionner les 5 plateformes les plus populaires\n",
        "top_platforms = df_exploded['Platform'].value_counts().nlargest(5).index\n",
        "df_filtered = df_exploded[df_exploded['Platform'].isin(top_platforms)]\n",
        "\n",
        "# Créer un tableau croisé dynamique\n",
        "pivot_table = df_filtered.pivot_table(index='Employment', columns='Platform', aggfunc='size', fill_value=0)\n",
        "\n",
        "# Tracer le graphique empilé\n",
        "pivot_table.plot(kind='bar', stacked=True, figsize=(10, 6), colormap='viridis')\n",
        "plt.title(\"Stacked Chart des Plateformes Admirées par Type d'Emploi\")\n",
        "plt.xlabel(\"Type d'Emploi\")\n",
        "plt.ylabel(\"Nombre de Répondants\")\n",
        "plt.legend(title=\"Plateforme\", bbox_to_anchor=(1.05, 1), loc='upper left')\n",
        "plt.xticks(rotation=45)\n",
        "plt.grid(axis='y', linestyle='--', alpha=0.7)\n",
        "plt.show()\n"
      ],
      "metadata": {
        "colab": {
          "base_uri": "https://localhost:8080/",
          "height": 411
        },
        "id": "LBY5xQtbedUC",
        "outputId": "5f92777e-4f3d-4185-deec-e02e18b15c5b"
      },
      "execution_count": 4,
      "outputs": [
        {
          "output_type": "stream",
          "name": "stderr",
          "text": [
            "<ipython-input-4-38115881f3e5>:21: FutureWarning: The default value of observed=False is deprecated and will change to observed=True in a future version of pandas. Specify observed=False to silence this warning and retain the current behavior\n",
            "  pivot_table = df_filtered.pivot_table(index='AgeGroup', columns='Language', aggfunc='size', fill_value=0)\n"
          ]
        },
        {
          "output_type": "error",
          "ename": "TypeError",
          "evalue": "no numeric data to plot",
          "traceback": [
            "\u001b[0;31m---------------------------------------------------------------------------\u001b[0m",
            "\u001b[0;31mTypeError\u001b[0m                                 Traceback (most recent call last)",
            "\u001b[0;32m<ipython-input-4-38115881f3e5>\u001b[0m in \u001b[0;36m<cell line: 0>\u001b[0;34m()\u001b[0m\n\u001b[1;32m     22\u001b[0m \u001b[0;34m\u001b[0m\u001b[0m\n\u001b[1;32m     23\u001b[0m \u001b[0;31m# Tracer le graphique empilé\u001b[0m\u001b[0;34m\u001b[0m\u001b[0;34m\u001b[0m\u001b[0m\n\u001b[0;32m---> 24\u001b[0;31m \u001b[0mpivot_table\u001b[0m\u001b[0;34m.\u001b[0m\u001b[0mplot\u001b[0m\u001b[0;34m(\u001b[0m\u001b[0mkind\u001b[0m\u001b[0;34m=\u001b[0m\u001b[0;34m'bar'\u001b[0m\u001b[0;34m,\u001b[0m \u001b[0mstacked\u001b[0m\u001b[0;34m=\u001b[0m\u001b[0;32mTrue\u001b[0m\u001b[0;34m,\u001b[0m \u001b[0mfigsize\u001b[0m\u001b[0;34m=\u001b[0m\u001b[0;34m(\u001b[0m\u001b[0;36m10\u001b[0m\u001b[0;34m,\u001b[0m \u001b[0;36m6\u001b[0m\u001b[0;34m)\u001b[0m\u001b[0;34m,\u001b[0m \u001b[0mcolormap\u001b[0m\u001b[0;34m=\u001b[0m\u001b[0;34m'tab10'\u001b[0m\u001b[0;34m)\u001b[0m\u001b[0;34m\u001b[0m\u001b[0;34m\u001b[0m\u001b[0m\n\u001b[0m\u001b[1;32m     25\u001b[0m \u001b[0mplt\u001b[0m\u001b[0;34m.\u001b[0m\u001b[0mtitle\u001b[0m\u001b[0;34m(\u001b[0m\u001b[0;34m\"Stacked Chart des Langages de Programmation Préférés par Groupe d’Âge\"\u001b[0m\u001b[0;34m)\u001b[0m\u001b[0;34m\u001b[0m\u001b[0;34m\u001b[0m\u001b[0m\n\u001b[1;32m     26\u001b[0m \u001b[0mplt\u001b[0m\u001b[0;34m.\u001b[0m\u001b[0mxlabel\u001b[0m\u001b[0;34m(\u001b[0m\u001b[0;34m\"Groupe d'Âge\"\u001b[0m\u001b[0;34m)\u001b[0m\u001b[0;34m\u001b[0m\u001b[0;34m\u001b[0m\u001b[0m\n",
            "\u001b[0;32m/usr/local/lib/python3.11/dist-packages/pandas/plotting/_core.py\u001b[0m in \u001b[0;36m__call__\u001b[0;34m(self, *args, **kwargs)\u001b[0m\n\u001b[1;32m   1028\u001b[0m                     \u001b[0mdata\u001b[0m\u001b[0;34m.\u001b[0m\u001b[0mcolumns\u001b[0m \u001b[0;34m=\u001b[0m \u001b[0mlabel_name\u001b[0m\u001b[0;34m\u001b[0m\u001b[0;34m\u001b[0m\u001b[0m\n\u001b[1;32m   1029\u001b[0m \u001b[0;34m\u001b[0m\u001b[0m\n\u001b[0;32m-> 1030\u001b[0;31m         \u001b[0;32mreturn\u001b[0m \u001b[0mplot_backend\u001b[0m\u001b[0;34m.\u001b[0m\u001b[0mplot\u001b[0m\u001b[0;34m(\u001b[0m\u001b[0mdata\u001b[0m\u001b[0;34m,\u001b[0m \u001b[0mkind\u001b[0m\u001b[0;34m=\u001b[0m\u001b[0mkind\u001b[0m\u001b[0;34m,\u001b[0m \u001b[0;34m**\u001b[0m\u001b[0mkwargs\u001b[0m\u001b[0;34m)\u001b[0m\u001b[0;34m\u001b[0m\u001b[0;34m\u001b[0m\u001b[0m\n\u001b[0m\u001b[1;32m   1031\u001b[0m \u001b[0;34m\u001b[0m\u001b[0m\n\u001b[1;32m   1032\u001b[0m     \u001b[0m__call__\u001b[0m\u001b[0;34m.\u001b[0m\u001b[0m__doc__\u001b[0m \u001b[0;34m=\u001b[0m \u001b[0m__doc__\u001b[0m\u001b[0;34m\u001b[0m\u001b[0;34m\u001b[0m\u001b[0m\n",
            "\u001b[0;32m/usr/local/lib/python3.11/dist-packages/pandas/plotting/_matplotlib/__init__.py\u001b[0m in \u001b[0;36mplot\u001b[0;34m(data, kind, **kwargs)\u001b[0m\n\u001b[1;32m     69\u001b[0m             \u001b[0mkwargs\u001b[0m\u001b[0;34m[\u001b[0m\u001b[0;34m\"ax\"\u001b[0m\u001b[0;34m]\u001b[0m \u001b[0;34m=\u001b[0m \u001b[0mgetattr\u001b[0m\u001b[0;34m(\u001b[0m\u001b[0max\u001b[0m\u001b[0;34m,\u001b[0m \u001b[0;34m\"left_ax\"\u001b[0m\u001b[0;34m,\u001b[0m \u001b[0max\u001b[0m\u001b[0;34m)\u001b[0m\u001b[0;34m\u001b[0m\u001b[0;34m\u001b[0m\u001b[0m\n\u001b[1;32m     70\u001b[0m     \u001b[0mplot_obj\u001b[0m \u001b[0;34m=\u001b[0m \u001b[0mPLOT_CLASSES\u001b[0m\u001b[0;34m[\u001b[0m\u001b[0mkind\u001b[0m\u001b[0;34m]\u001b[0m\u001b[0;34m(\u001b[0m\u001b[0mdata\u001b[0m\u001b[0;34m,\u001b[0m \u001b[0;34m**\u001b[0m\u001b[0mkwargs\u001b[0m\u001b[0;34m)\u001b[0m\u001b[0;34m\u001b[0m\u001b[0;34m\u001b[0m\u001b[0m\n\u001b[0;32m---> 71\u001b[0;31m     \u001b[0mplot_obj\u001b[0m\u001b[0;34m.\u001b[0m\u001b[0mgenerate\u001b[0m\u001b[0;34m(\u001b[0m\u001b[0;34m)\u001b[0m\u001b[0;34m\u001b[0m\u001b[0;34m\u001b[0m\u001b[0m\n\u001b[0m\u001b[1;32m     72\u001b[0m     \u001b[0mplot_obj\u001b[0m\u001b[0;34m.\u001b[0m\u001b[0mdraw\u001b[0m\u001b[0;34m(\u001b[0m\u001b[0;34m)\u001b[0m\u001b[0;34m\u001b[0m\u001b[0;34m\u001b[0m\u001b[0m\n\u001b[1;32m     73\u001b[0m     \u001b[0;32mreturn\u001b[0m \u001b[0mplot_obj\u001b[0m\u001b[0;34m.\u001b[0m\u001b[0mresult\u001b[0m\u001b[0;34m\u001b[0m\u001b[0;34m\u001b[0m\u001b[0m\n",
            "\u001b[0;32m/usr/local/lib/python3.11/dist-packages/pandas/plotting/_matplotlib/core.py\u001b[0m in \u001b[0;36mgenerate\u001b[0;34m(self)\u001b[0m\n\u001b[1;32m    497\u001b[0m     \u001b[0;34m@\u001b[0m\u001b[0mfinal\u001b[0m\u001b[0;34m\u001b[0m\u001b[0;34m\u001b[0m\u001b[0m\n\u001b[1;32m    498\u001b[0m     \u001b[0;32mdef\u001b[0m \u001b[0mgenerate\u001b[0m\u001b[0;34m(\u001b[0m\u001b[0mself\u001b[0m\u001b[0;34m)\u001b[0m \u001b[0;34m->\u001b[0m \u001b[0;32mNone\u001b[0m\u001b[0;34m:\u001b[0m\u001b[0;34m\u001b[0m\u001b[0;34m\u001b[0m\u001b[0m\n\u001b[0;32m--> 499\u001b[0;31m         \u001b[0mself\u001b[0m\u001b[0;34m.\u001b[0m\u001b[0m_compute_plot_data\u001b[0m\u001b[0;34m(\u001b[0m\u001b[0;34m)\u001b[0m\u001b[0;34m\u001b[0m\u001b[0;34m\u001b[0m\u001b[0m\n\u001b[0m\u001b[1;32m    500\u001b[0m         \u001b[0mfig\u001b[0m \u001b[0;34m=\u001b[0m \u001b[0mself\u001b[0m\u001b[0;34m.\u001b[0m\u001b[0mfig\u001b[0m\u001b[0;34m\u001b[0m\u001b[0;34m\u001b[0m\u001b[0m\n\u001b[1;32m    501\u001b[0m         \u001b[0mself\u001b[0m\u001b[0;34m.\u001b[0m\u001b[0m_make_plot\u001b[0m\u001b[0;34m(\u001b[0m\u001b[0mfig\u001b[0m\u001b[0;34m)\u001b[0m\u001b[0;34m\u001b[0m\u001b[0;34m\u001b[0m\u001b[0m\n",
            "\u001b[0;32m/usr/local/lib/python3.11/dist-packages/pandas/plotting/_matplotlib/core.py\u001b[0m in \u001b[0;36m_compute_plot_data\u001b[0;34m(self)\u001b[0m\n\u001b[1;32m    696\u001b[0m         \u001b[0;31m# no non-numeric frames or series allowed\u001b[0m\u001b[0;34m\u001b[0m\u001b[0;34m\u001b[0m\u001b[0m\n\u001b[1;32m    697\u001b[0m         \u001b[0;32mif\u001b[0m \u001b[0mis_empty\u001b[0m\u001b[0;34m:\u001b[0m\u001b[0;34m\u001b[0m\u001b[0;34m\u001b[0m\u001b[0m\n\u001b[0;32m--> 698\u001b[0;31m             \u001b[0;32mraise\u001b[0m \u001b[0mTypeError\u001b[0m\u001b[0;34m(\u001b[0m\u001b[0;34m\"no numeric data to plot\"\u001b[0m\u001b[0;34m)\u001b[0m\u001b[0;34m\u001b[0m\u001b[0;34m\u001b[0m\u001b[0m\n\u001b[0m\u001b[1;32m    699\u001b[0m \u001b[0;34m\u001b[0m\u001b[0m\n\u001b[1;32m    700\u001b[0m         \u001b[0mself\u001b[0m\u001b[0;34m.\u001b[0m\u001b[0mdata\u001b[0m \u001b[0;34m=\u001b[0m \u001b[0mnumeric_data\u001b[0m\u001b[0;34m.\u001b[0m\u001b[0mapply\u001b[0m\u001b[0;34m(\u001b[0m\u001b[0mtype\u001b[0m\u001b[0;34m(\u001b[0m\u001b[0mself\u001b[0m\u001b[0;34m)\u001b[0m\u001b[0;34m.\u001b[0m\u001b[0m_convert_to_ndarray\u001b[0m\u001b[0;34m)\u001b[0m\u001b[0;34m\u001b[0m\u001b[0;34m\u001b[0m\u001b[0m\n",
            "\u001b[0;31mTypeError\u001b[0m: no numeric data to plot"
          ]
        }
      ]
    },
    {
      "cell_type": "markdown",
      "source": [
        "### Final Step: Review\n",
        "In this lab, you focused on using stacked charts to understand the composition and comparison within the dataset. Stacked charts provided insights into job satisfaction, compensation, and preferred databases across age groups and employment types.\n",
        "\n",
        "##Summary\n",
        "\n",
        "\n",
        "After completing this lab, you will be able to:\n",
        "\n",
        "Use stacked charts to analyze the composition of data across categories, such as job satisfaction and compensation by age group.\n",
        "\n",
        "Compare data across different dimensions using stacked charts, enhancing your ability to communicate complex relationships in the data.\n",
        "\n",
        "Visualize distributions across multiple categories, such as employment type by satisfaction, to gain a deeper understanding of patterns within the dataset."
      ],
      "metadata": {
        "id": "khO0v-mvec70"
      }
    }
  ]
}